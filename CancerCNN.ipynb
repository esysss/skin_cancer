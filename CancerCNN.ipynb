{
  "nbformat": 4,
  "nbformat_minor": 0,
  "metadata": {
    "colab": {
      "provenance": [],
      "gpuType": "T4"
    },
    "kernelspec": {
      "name": "python3",
      "display_name": "Python 3"
    },
    "language_info": {
      "name": "python"
    },
    "accelerator": "GPU"
  },
  "cells": [
    {
      "cell_type": "code",
      "execution_count": null,
      "metadata": {
        "id": "dARJIbbzcDiP"
      },
      "outputs": [],
      "source": [
        "import numpy as np\n",
        "import pandas as pd\n",
        "import matplotlib.pyplot as plt\n",
        "from sklearn.model_selection import train_test_split"
      ]
    },
    {
      "cell_type": "code",
      "source": [
        "train_data = pd.read_pickle('/content/drive/MyDrive/choosen/train.pkl')\n",
        "test_data = pd.read_pickle('/content/drive/MyDrive/choosen/test.pkl')"
      ],
      "metadata": {
        "id": "rDqqH2-usSgD"
      },
      "execution_count": null,
      "outputs": []
    },
    {
      "cell_type": "code",
      "source": [
        "import cv2\n",
        "import os\n",
        "import pandas as pd\n",
        "from tqdm import tqdm\n",
        "\n",
        "# Assuming `balanced_df` contains the image names in the 'image' column\n",
        "imgsTrainin = []\n",
        "# Output directory for resized images\n",
        "\n",
        "# Loop through the image names in balanced_df and process them\n",
        "for image_name in tqdm(train_data['image']):\n",
        "    # Construct the full image file path\n",
        "    image_path = os.path.join(\"/content/drive/MyDrive/choosen/\" + image_name + \".jpg\")  # Adjust extension if needed\n",
        "\n",
        "    # Read the image using OpenCV\n",
        "    image = cv2.imread(image_path)\n",
        "\n",
        "    if image is None:\n",
        "        print(f\"Image {image_name} not found or could not be read.\")\n",
        "        continue\n",
        "\n",
        "    # Resize the image to 500x500\n",
        "    resized_image = cv2.resize(image, (224, 224))\n",
        "    imgsTrainin.append(resized_image)\n",
        "\n",
        "    # Save the resized image to the output directory\n",
        "    # output_path = os.path.join(output_directory, image_name + \"_resized.jpg\")\n",
        "    # cv2.imwrite(output_path, resized_image)\n",
        "\n",
        "# Assuming `balanced_df` contains the image names in the 'image' column\n",
        "imgsTesting = []\n",
        "# Output directory for resized images\n",
        "\n",
        "# Loop through the image names in balanced_df and process them\n",
        "for image_name in tqdm(test_data['image']):\n",
        "    # Construct the full image file path\n",
        "    image_path = os.path.join(\"/content/drive/MyDrive/choosen/\" + image_name + \".jpg\")  # Adjust extension if needed\n",
        "\n",
        "    # Read the image using OpenCV\n",
        "    image = cv2.imread(image_path)\n",
        "\n",
        "    if image is None:\n",
        "        print(f\"Image {image_name} not found or could not be read.\")\n",
        "        continue\n",
        "\n",
        "    # Resize the image to 500x500\n",
        "    resized_image = cv2.resize(image, (224, 224))\n",
        "    imgsTesting.append(resized_image)\n",
        "\n",
        "    # Save the resized image to the output directory\n",
        "    # output_path = os.path.join(output_directory, image_name + \"_resized.jpg\")\n",
        "    # cv2.imwrite(output_path, resized_image)\n",
        "\n",
        "print(\"Image resizing completed.\")"
      ],
      "metadata": {
        "colab": {
          "base_uri": "https://localhost:8080/"
        },
        "id": "yaCFqToSc5JL",
        "outputId": "59e60538-898a-440d-b321-59ace47acdd9"
      },
      "execution_count": null,
      "outputs": [
        {
          "output_type": "stream",
          "name": "stderr",
          "text": [
            "100%|██████████| 1528/1528 [00:28<00:00, 53.20it/s]\n",
            "100%|██████████| 384/384 [00:05<00:00, 64.51it/s]"
          ]
        },
        {
          "output_type": "stream",
          "name": "stdout",
          "text": [
            "Image resizing completed.\n"
          ]
        },
        {
          "output_type": "stream",
          "name": "stderr",
          "text": [
            "\n"
          ]
        }
      ]
    },
    {
      "cell_type": "code",
      "source": [
        "labels_one_hot = train_data.iloc[:, 1:].values\n",
        "labelstrain = [list(row).index(1.0) for row in labels_one_hot]\n",
        "labels_one_hot = test_data.iloc[:, 1:].values\n",
        "labelstest = [list(row).index(1.0) for row in labels_one_hot]"
      ],
      "metadata": {
        "id": "C-RerqHsdEPb"
      },
      "execution_count": null,
      "outputs": []
    },
    {
      "cell_type": "code",
      "source": [
        "import torch\n",
        "stacked_array = np.stack(labelstrain)  # Shape: (num_samples, 3, 500, 500)\n",
        "torch_labels_train = torch.from_numpy(stacked_array)\n",
        "\n",
        "stacked_array = np.stack(labelstest)  # Shape: (num_samples, 3, 500, 500)\n",
        "torch_labels_test = torch.from_numpy(stacked_array)\n",
        "\n",
        "stacked_array = np.stack(imgsTrainin)  # Shape: (num_samples, 3, 500, 500)\n",
        "torch_images_train = torch.from_numpy(stacked_array).float()  # Ensure it's a float tensor\n",
        "\n",
        "stacked_array = np.stack(imgsTesting)  # Shape: (num_samples, 3, 500, 500)\n",
        "torch_images_test = torch.from_numpy(stacked_array).float()  # Ensure it's a float tensor"
      ],
      "metadata": {
        "id": "B5sbmXsueVYk"
      },
      "execution_count": null,
      "outputs": []
    },
    {
      "cell_type": "code",
      "source": [
        "import torch\n",
        "import torch.nn as nn\n",
        "import torch.nn.functional as F\n",
        "from torch.utils.data import DataLoader, TensorDataset\n",
        "from sklearn.model_selection import train_test_split\n",
        "\n",
        "# Example data (replace with your actual tensors)\n",
        "train_images = torch_images_train.permute(0, 3, 1, 2)\n",
        "test_images = torch_images_test.permute(0, 3, 1, 2)\n",
        "train_labels = torch_labels_train\n",
        "test_labels = torch_labels_test\n",
        "\n",
        "# Wrap into TensorDataset\n",
        "train_dataset = TensorDataset(train_images, train_labels)\n",
        "test_dataset = TensorDataset(test_images, test_labels)\n",
        "\n",
        "# DataLoader\n",
        "train_loader = DataLoader(train_dataset, batch_size=32, shuffle=True)\n",
        "test_loader = DataLoader(test_dataset, batch_size=32, shuffle=False)"
      ],
      "metadata": {
        "id": "3ucgLpJTfkbM"
      },
      "execution_count": null,
      "outputs": []
    },
    {
      "cell_type": "code",
      "source": [
        "# Define the CNN Model\n",
        "class SimpleCNN(nn.Module):\n",
        "    def __init__(self, num_classes=8):\n",
        "        super(SimpleCNN, self).__init__()\n",
        "        self.conv1 = nn.Conv2d(3, 32, kernel_size=3, stride=1, padding=1)\n",
        "        self.conv2 = nn.Conv2d(32, 64, kernel_size=3, stride=1, padding=1)\n",
        "        self.conv3 = nn.Conv2d(64, 128, kernel_size=3, stride=1, padding=1)\n",
        "        self.pool = nn.MaxPool2d(kernel_size=2, stride=2)\n",
        "\n",
        "        # Fully connected layers\n",
        "        self.flattened_size = None  # Placeholder to calculate the size dynamically\n",
        "        self.fc1 = None\n",
        "        self.fc2 = nn.Linear(256, num_classes)\n",
        "\n",
        "    def forward(self, x):\n",
        "        x = F.relu(self.conv1(x))\n",
        "        x = self.pool(F.relu(self.conv2(x)))\n",
        "        x = self.pool(F.relu(self.conv3(x)))\n",
        "\n",
        "        if self.flattened_size is None:\n",
        "            # Calculate flattened size dynamically\n",
        "            self.flattened_size = torch.prod(torch.tensor(x.shape[1:])).item()\n",
        "            self.fc1 = nn.Linear(self.flattened_size, 256).to(x.device)\n",
        "\n",
        "        x = x.view(x.size(0), -1)  # Flatten\n",
        "        x = F.relu(self.fc1(x))\n",
        "        x = self.fc2(x)\n",
        "        return x\n",
        "\n",
        "# Initialize model, loss, and optimizer\n",
        "device = torch.device('cuda' if torch.cuda.is_available() else 'cpu')\n",
        "model = SimpleCNN(num_classes=8).to(device)\n",
        "criterion = nn.CrossEntropyLoss()\n",
        "optimizer = torch.optim.Adam(model.parameters(), lr=0.0001)\n",
        "\n",
        "# Training loop\n",
        "trainingHolder = []\n",
        "testingHolder = []\n",
        "\n",
        "num_epochs = 40\n",
        "for epoch in range(num_epochs):\n",
        "    model.train()\n",
        "    running_loss = 0.0\n",
        "\n",
        "    for images, labels in train_loader:\n",
        "        images, labels = images.to(device), labels.to(device)\n",
        "\n",
        "        # Forward pass\n",
        "        outputs = model(images)\n",
        "        loss = criterion(outputs, labels)\n",
        "\n",
        "        # Backward pass and optimization\n",
        "        optimizer.zero_grad()\n",
        "        loss.backward()\n",
        "        optimizer.step()\n",
        "\n",
        "        running_loss += loss.item()\n",
        "\n",
        "    print(f'Epoch [{epoch+1}/{num_epochs}], Loss: {running_loss/len(train_loader):.4f}')\n",
        "\n",
        "    # Testing loop\n",
        "    model.eval()\n",
        "    correct = 0\n",
        "    total = 0\n",
        "\n",
        "    with torch.no_grad():\n",
        "        for images, labels in test_loader:\n",
        "            images, labels = images.to(device), labels.to(device)\n",
        "            outputs = model(images)\n",
        "            _, predicted = torch.max(outputs.data, 1)\n",
        "            total += labels.size(0)\n",
        "            correct += (predicted == labels).sum().item()\n",
        "\n",
        "    print(f'Test Accuracy: {100 * correct / total:.2f}%')\n",
        "    testingHolder.append(100 * correct / total)\n",
        "\n",
        "    correct = 0\n",
        "    total = 0\n",
        "    with torch.no_grad():\n",
        "        for images, labels in train_loader:\n",
        "            images, labels = images.to(device), labels.to(device)\n",
        "            outputs = model(images)\n",
        "            _, predicted = torch.max(outputs.data, 1)\n",
        "            total += labels.size(0)\n",
        "            correct += (predicted == labels).sum().item()\n",
        "\n",
        "    trainingHolder.append(100 * correct / total)"
      ],
      "metadata": {
        "colab": {
          "base_uri": "https://localhost:8080/"
        },
        "id": "05YUdjNPgLJb",
        "outputId": "7fa35c63-1bfd-4d5c-9e91-017aad092955"
      },
      "execution_count": null,
      "outputs": [
        {
          "output_type": "stream",
          "name": "stdout",
          "text": [
            "Epoch [1/40], Loss: 2.1863\n",
            "Test Accuracy: 14.58%\n",
            "Epoch [2/40], Loss: 2.0367\n",
            "Test Accuracy: 20.83%\n",
            "Epoch [3/40], Loss: 1.9927\n",
            "Test Accuracy: 22.40%\n",
            "Epoch [4/40], Loss: 1.9599\n",
            "Test Accuracy: 23.70%\n",
            "Epoch [5/40], Loss: 1.9318\n",
            "Test Accuracy: 27.08%\n",
            "Epoch [6/40], Loss: 1.9000\n",
            "Test Accuracy: 24.48%\n",
            "Epoch [7/40], Loss: 1.8715\n",
            "Test Accuracy: 25.78%\n",
            "Epoch [8/40], Loss: 1.8456\n",
            "Test Accuracy: 27.86%\n",
            "Epoch [9/40], Loss: 1.8182\n",
            "Test Accuracy: 28.12%\n",
            "Epoch [10/40], Loss: 1.7940\n",
            "Test Accuracy: 28.91%\n",
            "Epoch [11/40], Loss: 1.7459\n",
            "Test Accuracy: 30.47%\n",
            "Epoch [12/40], Loss: 1.7261\n",
            "Test Accuracy: 26.30%\n",
            "Epoch [13/40], Loss: 1.6940\n",
            "Test Accuracy: 32.55%\n",
            "Epoch [14/40], Loss: 1.6587\n",
            "Test Accuracy: 32.81%\n",
            "Epoch [15/40], Loss: 1.6274\n",
            "Test Accuracy: 32.03%\n",
            "Epoch [16/40], Loss: 1.6176\n",
            "Test Accuracy: 32.55%\n",
            "Epoch [17/40], Loss: 1.5936\n",
            "Test Accuracy: 29.43%\n",
            "Epoch [18/40], Loss: 1.5560\n",
            "Test Accuracy: 31.25%\n",
            "Epoch [19/40], Loss: 1.5283\n",
            "Test Accuracy: 35.94%\n",
            "Epoch [20/40], Loss: 1.4900\n",
            "Test Accuracy: 34.38%\n",
            "Epoch [21/40], Loss: 1.4744\n",
            "Test Accuracy: 34.11%\n",
            "Epoch [22/40], Loss: 1.4662\n",
            "Test Accuracy: 30.21%\n",
            "Epoch [23/40], Loss: 1.4271\n",
            "Test Accuracy: 34.90%\n",
            "Epoch [24/40], Loss: 1.3978\n",
            "Test Accuracy: 33.59%\n",
            "Epoch [25/40], Loss: 1.3723\n",
            "Test Accuracy: 35.94%\n",
            "Epoch [26/40], Loss: 1.3881\n",
            "Test Accuracy: 35.94%\n",
            "Epoch [27/40], Loss: 1.3353\n",
            "Test Accuracy: 33.33%\n",
            "Epoch [28/40], Loss: 1.3272\n",
            "Test Accuracy: 34.90%\n",
            "Epoch [29/40], Loss: 1.2942\n",
            "Test Accuracy: 36.20%\n",
            "Epoch [30/40], Loss: 1.2886\n",
            "Test Accuracy: 35.42%\n",
            "Epoch [31/40], Loss: 1.2544\n",
            "Test Accuracy: 32.29%\n",
            "Epoch [32/40], Loss: 1.2365\n",
            "Test Accuracy: 35.94%\n",
            "Epoch [33/40], Loss: 1.2114\n",
            "Test Accuracy: 34.38%\n",
            "Epoch [34/40], Loss: 1.1924\n",
            "Test Accuracy: 34.90%\n",
            "Epoch [35/40], Loss: 1.1878\n",
            "Test Accuracy: 34.90%\n",
            "Epoch [36/40], Loss: 1.1507\n",
            "Test Accuracy: 35.68%\n",
            "Epoch [37/40], Loss: 1.1334\n",
            "Test Accuracy: 35.16%\n",
            "Epoch [38/40], Loss: 1.1183\n",
            "Test Accuracy: 35.68%\n",
            "Epoch [39/40], Loss: 1.0984\n",
            "Test Accuracy: 34.64%\n",
            "Epoch [40/40], Loss: 1.0861\n",
            "Test Accuracy: 31.77%\n"
          ]
        }
      ]
    },
    {
      "cell_type": "code",
      "source": [
        "epochs = range(1, len(trainingHolder) + 1)\n",
        "\n",
        "# Create the plot\n",
        "plt.figure(figsize=(8, 6))\n",
        "plt.plot(epochs, trainingHolder, label='Training Accuracy', marker='o', color='blue')\n",
        "plt.plot(epochs, testingHolder, label='Testing Accuracy', marker='s', color='orange')\n",
        "\n",
        "# Add labels, title, and legend\n",
        "plt.xlabel('Epochs')\n",
        "plt.ylabel('Accuracy')\n",
        "plt.title('Training vs Testing Accuracy')\n",
        "plt.legend()\n",
        "plt.grid(True)\n",
        "\n",
        "# Show the plot\n",
        "plt.show()"
      ],
      "metadata": {
        "colab": {
          "base_uri": "https://localhost:8080/",
          "height": 564
        },
        "id": "3Fp2IJxNgrkL",
        "outputId": "c5b9a169-a256-4a99-a805-34b8e305133e"
      },
      "execution_count": null,
      "outputs": [
        {
          "output_type": "display_data",
          "data": {
            "text/plain": [
              "<Figure size 800x600 with 1 Axes>"
            ],
            "image/png": "[encoded data removed]"
          },
          "metadata": {}
        }
      ]
    },
    {
      "cell_type": "code",
      "source": [
        "testingHolder"
      ],
      "metadata": {
        "colab": {
          "base_uri": "https://localhost:8080/"
        },
        "id": "NqQqVpDNgtCb",
        "outputId": "63a50e0a-4624-4ed3-98ba-88e879dab24e"
      },
      "execution_count": null,
      "outputs": [
        {
          "output_type": "execute_result",
          "data": {
            "text/plain": [
              "[14.583333333333334,\n",
              " 20.833333333333332,\n",
              " 22.395833333333332,\n",
              " 23.697916666666668,\n",
              " 27.083333333333332,\n",
              " 24.479166666666668,\n",
              " 25.78125,\n",
              " 27.864583333333332,\n",
              " 28.125,\n",
              " 28.90625,\n",
              " 30.46875,\n",
              " 26.302083333333332,\n",
              " 32.552083333333336,\n",
              " 32.8125,\n",
              " 32.03125,\n",
              " 32.552083333333336,\n",
              " 29.427083333333332,\n",
              " 31.25,\n",
              " 35.9375,\n",
              " 34.375,\n",
              " 34.114583333333336,\n",
              " 30.208333333333332,\n",
              " 34.895833333333336,\n",
              " 33.59375,\n",
              " 35.9375,\n",
              " 35.9375,\n",
              " 33.333333333333336,\n",
              " 34.895833333333336,\n",
              " 36.197916666666664,\n",
              " 35.416666666666664,\n",
              " 32.291666666666664,\n",
              " 35.9375,\n",
              " 34.375,\n",
              " 34.895833333333336,\n",
              " 34.895833333333336,\n",
              " 35.677083333333336,\n",
              " 35.15625,\n",
              " 35.677083333333336,\n",
              " 34.635416666666664,\n",
              " 31.770833333333332]"
            ]
          },
          "metadata": {},
          "execution_count": 9
        }
      ]
    },
    {
      "cell_type": "code",
      "source": [
        "max(testingHolder)"
      ],
      "metadata": {
        "id": "p3ft2_Slrcp6",
        "colab": {
          "base_uri": "https://localhost:8080/"
        },
        "outputId": "845480fd-43b4-4721-c74d-ce67ac1261e7"
      },
      "execution_count": null,
      "outputs": [
        {
          "output_type": "execute_result",
          "data": {
            "text/plain": [
              "36.197916666666664"
            ]
          },
          "metadata": {},
          "execution_count": 10
        }
      ]
    },
    {
      "cell_type": "code",
      "source": [],
      "metadata": {
        "id": "76lpsc6W4CZG"
      },
      "execution_count": null,
      "outputs": []
    }
  ]
}