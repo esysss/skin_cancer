{
  "cells": [
    {
      "cell_type": "code",
      "execution_count": 1,
      "metadata": {
        "id": "d8axD61Uebys"
      },
      "outputs": [],
      "source": [
        "import numpy as np\n",
        "import pandas as pd\n",
        "import matplotlib.pyplot as plt\n",
        "from sklearn.model_selection import train_test_split\n",
        "from torch.utils.data import DataLoader, TensorDataset\n",
        "import torch\n",
        "from sklearn.preprocessing import StandardScaler\n",
        "from torchvision.transforms import Normalize"
      ]
    },
    {
      "cell_type": "code",
      "execution_count": 2,
      "metadata": {
        "id": "_Mcgsgsoegld"
      },
      "outputs": [],
      "source": [
        "train_data = pd.read_pickle('/content/drive/MyDrive/choosen/train.pkl')\n",
        "test_data = pd.read_pickle('/content/drive/MyDrive/choosen/test.pkl')\n",
        "\n",
        "train_metadata = pd.read_csv(\"/content/drive/MyDrive/choosen/train_metadata.csv\")\n",
        "test_metadata = pd.read_csv(\"/content/drive/MyDrive/choosen/test_metadata.csv\")"
      ]
    },
    {
      "cell_type": "code",
      "execution_count": 3,
      "metadata": {
        "colab": {
          "base_uri": "https://localhost:8080/"
        },
        "id": "HqAtSmKleli1",
        "outputId": "6b9fd2ac-8244-4850-ac30-1be74e831055"
      },
      "outputs": [
        {
          "output_type": "stream",
          "name": "stderr",
          "text": [
            "100%|██████████| 1528/1528 [34:29<00:00,  1.35s/it]\n",
            "100%|██████████| 384/384 [08:50<00:00,  1.38s/it]"
          ]
        },
        {
          "output_type": "stream",
          "name": "stdout",
          "text": [
            "Image resizing completed.\n"
          ]
        },
        {
          "output_type": "stream",
          "name": "stderr",
          "text": [
            "\n"
          ]
        }
      ],
      "source": [
        "import cv2\n",
        "import os\n",
        "import pandas as pd\n",
        "from tqdm import tqdm\n",
        "\n",
        "# Assuming `balanced_df` contains the image names in the 'image' column\n",
        "imgsTrainin = []\n",
        "# Output directory for resized images\n",
        "\n",
        "# Loop through the image names in balanced_df and process them\n",
        "for image_name in tqdm(train_data['image']):\n",
        "    # Construct the full image file path\n",
        "    image_path = os.path.join(\"/content/drive/MyDrive/choosen/\" + image_name + \".jpg\")  # Adjust extension if needed\n",
        "\n",
        "    # Read the image using OpenCV\n",
        "    image = cv2.imread(image_path)\n",
        "\n",
        "    if image is None:\n",
        "        print(f\"Image {image_name} not found or could not be read.\")\n",
        "        continue\n",
        "\n",
        "    # Resize the image to 500x500\n",
        "    resized_image = cv2.resize(image, (224, 224))\n",
        "    imgsTrainin.append(resized_image)\n",
        "\n",
        "    # Save the resized image to the output directory\n",
        "    # output_path = os.path.join(output_directory, image_name + \"_resized.jpg\")\n",
        "    # cv2.imwrite(output_path, resized_image)\n",
        "\n",
        "# Assuming `balanced_df` contains the image names in the 'image' column\n",
        "imgsTesting = []\n",
        "# Output directory for resized images\n",
        "\n",
        "# Loop through the image names in balanced_df and process them\n",
        "for image_name in tqdm(test_data['image']):\n",
        "    # Construct the full image file path\n",
        "    image_path = os.path.join(\"/content/drive/MyDrive/choosen/\" + image_name + \".jpg\")  # Adjust extension if needed\n",
        "\n",
        "    # Read the image using OpenCV\n",
        "    image = cv2.imread(image_path)\n",
        "\n",
        "    if image is None:\n",
        "        print(f\"Image {image_name} not found or could not be read.\")\n",
        "        continue\n",
        "\n",
        "    # Resize the image to 500x500\n",
        "    resized_image = cv2.resize(image, (224, 224))\n",
        "    imgsTesting.append(resized_image)\n",
        "\n",
        "    # Save the resized image to the output directory\n",
        "    # output_path = os.path.join(output_directory, image_name + \"_resized.jpg\")\n",
        "    # cv2.imwrite(output_path, resized_image)\n",
        "\n",
        "print(\"Image resizing completed.\")"
      ]
    },
    {
      "cell_type": "code",
      "execution_count": 4,
      "metadata": {
        "id": "CvKr3XszepCk"
      },
      "outputs": [],
      "source": [
        "labels_one_hot = train_data.iloc[:, 1:].values\n",
        "labelstrain = [list(row).index(1.0) for row in labels_one_hot]\n",
        "labels_one_hot = test_data.iloc[:, 1:].values\n",
        "labelstest = [list(row).index(1.0) for row in labels_one_hot]\n",
        "\n",
        "stacked_array = np.stack(labelstrain)  # Shape: (num_samples, 3, 500, 500)\n",
        "torch_labels_train = torch.from_numpy(stacked_array)\n",
        "\n",
        "stacked_array = np.stack(labelstest)  # Shape: (num_samples, 3, 500, 500)\n",
        "torch_labels_test = torch.from_numpy(stacked_array)\n",
        "\n",
        "stacked_array = np.stack(imgsTrainin)  # Shape: (num_samples, 3, 500, 500)\n",
        "torch_images_train = torch.from_numpy(stacked_array).float()  # Ensure it's a float tensor\n",
        "\n",
        "stacked_array = np.stack(imgsTesting)  # Shape: (num_samples, 3, 500, 500)\n",
        "torch_images_test = torch.from_numpy(stacked_array).float()  # Ensure it's a float tensor\n",
        "\n",
        "# Example data (replace with your actual tensors)\n",
        "train_images = torch_images_train.permute(0, 3, 1, 2)\n",
        "test_images = torch_images_test.permute(0, 3, 1, 2)\n",
        "train_labels = torch_labels_train\n",
        "test_labels = torch_labels_test\n",
        "\n",
        "# Wrap into TensorDataset\n",
        "train_dataset = TensorDataset(train_images, train_labels)\n",
        "test_dataset = TensorDataset(test_images, test_labels)\n",
        "\n",
        "# DataLoader\n",
        "train_loader = DataLoader(train_dataset, batch_size=32, shuffle=True)\n",
        "test_loader = DataLoader(test_dataset, batch_size=32, shuffle=False)\n",
        "\n",
        "device = torch.device(\"cuda\" if torch.cuda.is_available() else \"cpu\")"
      ]
    },
    {
      "cell_type": "code",
      "execution_count": 5,
      "metadata": {
        "id": "D6PsfCfakXMt"
      },
      "outputs": [],
      "source": [
        "X_train = train_metadata.drop(columns=['image'])  # Remove 'image' column if not used for training\n",
        "y_train = np.array(labelstrain)  # Assuming this is a list or array of labels\n",
        "\n",
        "X_test = test_metadata.drop(columns=['image'])  # Remove 'image' column if not used for training\n",
        "y_test = np.array(labelstest)  # Assuming this is a list or array of labels\n",
        "\n",
        "# Normalize/Standardize the data (especially for age and anatomical site)\n",
        "scaler = StandardScaler()\n",
        "X_scaled_train = scaler.fit_transform(X_train)\n",
        "\n",
        "scaler = StandardScaler()\n",
        "X_scaled_test = scaler.fit_transform(X_test)\n",
        "\n",
        "imagenet_normalize = Normalize(mean=[0.485, 0.456, 0.406], std=[0.229, 0.224, 0.225])\n",
        "train_images = imagenet_normalize(train_images)\n",
        "test_images = imagenet_normalize(test_images)"
      ]
    },
    {
      "cell_type": "code",
      "execution_count": 6,
      "metadata": {
        "colab": {
          "base_uri": "https://localhost:8080/"
        },
        "id": "_1tr0DackY_s",
        "outputId": "4822df63-818c-43cd-d96b-431f6ded9fab"
      },
      "outputs": [
        {
          "output_type": "stream",
          "name": "stderr",
          "text": [
            "/usr/local/lib/python3.10/dist-packages/torchvision/models/_utils.py:208: UserWarning: The parameter 'pretrained' is deprecated since 0.13 and may be removed in the future, please use 'weights' instead.\n",
            "  warnings.warn(\n",
            "/usr/local/lib/python3.10/dist-packages/torchvision/models/_utils.py:223: UserWarning: Arguments other than a weight enum or `None` for 'weights' are deprecated since 0.13 and may be removed in the future. The current behavior is equivalent to passing `weights=VGG16_Weights.IMAGENET1K_V1`. You can also use `weights=VGG16_Weights.DEFAULT` to get the most up-to-date weights.\n",
            "  warnings.warn(msg)\n",
            "Downloading: \"https://download.pytorch.org/models/vgg16-397923af.pth\" to /root/.cache/torch/hub/checkpoints/vgg16-397923af.pth\n",
            "100%|██████████| 528M/528M [00:02<00:00, 225MB/s]\n"
          ]
        },
        {
          "output_type": "stream",
          "name": "stdout",
          "text": [
            "Epoch [1/40], Loss: 2.1788, Training Accuracy: 25.78%\n",
            "Epoch [2/40], Loss: 1.8152, Training Accuracy: 35.94%\n",
            "Epoch [3/40], Loss: 1.6374, Training Accuracy: 34.90%\n",
            "Epoch [4/40], Loss: 1.4607, Training Accuracy: 41.67%\n",
            "Epoch [5/40], Loss: 1.3296, Training Accuracy: 43.49%\n",
            "Epoch [6/40], Loss: 1.1708, Training Accuracy: 40.10%\n",
            "Epoch [7/40], Loss: 1.1344, Training Accuracy: 45.05%\n",
            "Epoch [8/40], Loss: 0.9635, Training Accuracy: 41.15%\n",
            "Epoch [9/40], Loss: 0.9040, Training Accuracy: 44.01%\n",
            "Epoch [10/40], Loss: 0.7635, Training Accuracy: 42.19%\n",
            "Epoch [11/40], Loss: 0.7107, Training Accuracy: 42.19%\n",
            "Epoch [12/40], Loss: 0.5207, Training Accuracy: 44.53%\n",
            "Epoch [13/40], Loss: 0.3306, Training Accuracy: 49.48%\n",
            "Epoch [14/40], Loss: 0.2402, Training Accuracy: 47.66%\n",
            "Epoch [15/40], Loss: 0.3687, Training Accuracy: 45.83%\n",
            "Epoch [16/40], Loss: 0.4365, Training Accuracy: 45.57%\n",
            "Epoch [17/40], Loss: 0.3504, Training Accuracy: 44.53%\n",
            "Epoch [18/40], Loss: 0.2628, Training Accuracy: 42.97%\n",
            "Epoch [19/40], Loss: 0.1920, Training Accuracy: 47.14%\n",
            "Epoch [20/40], Loss: 0.1420, Training Accuracy: 46.35%\n",
            "Epoch [21/40], Loss: 0.1738, Training Accuracy: 43.75%\n",
            "Epoch [22/40], Loss: 0.1920, Training Accuracy: 47.40%\n",
            "Epoch [23/40], Loss: 0.3232, Training Accuracy: 47.40%\n",
            "Epoch [24/40], Loss: 0.3814, Training Accuracy: 46.88%\n",
            "Epoch [25/40], Loss: 0.1955, Training Accuracy: 44.01%\n",
            "Epoch [26/40], Loss: 0.0512, Training Accuracy: 46.88%\n",
            "Epoch [27/40], Loss: 0.0502, Training Accuracy: 47.40%\n",
            "Epoch [28/40], Loss: 0.1140, Training Accuracy: 47.40%\n",
            "Epoch [29/40], Loss: 0.2707, Training Accuracy: 45.57%\n",
            "Epoch [30/40], Loss: 0.1411, Training Accuracy: 48.18%\n",
            "Epoch [31/40], Loss: 0.1119, Training Accuracy: 46.35%\n",
            "Epoch [32/40], Loss: 0.0572, Training Accuracy: 48.18%\n",
            "Epoch [33/40], Loss: 0.0784, Training Accuracy: 45.83%\n",
            "Epoch [34/40], Loss: 0.0888, Training Accuracy: 46.35%\n",
            "Epoch [35/40], Loss: 0.0955, Training Accuracy: 46.35%\n",
            "Epoch [36/40], Loss: 0.0397, Training Accuracy: 48.70%\n",
            "Epoch [37/40], Loss: 0.0094, Training Accuracy: 50.78%\n",
            "Epoch [38/40], Loss: 0.0033, Training Accuracy: 52.34%\n",
            "Epoch [39/40], Loss: 0.0066, Training Accuracy: 49.48%\n",
            "Epoch [40/40], Loss: 0.0009, Training Accuracy: 50.78%\n"
          ]
        }
      ],
      "source": [
        "import torch\n",
        "import torch.nn as nn\n",
        "import torch.optim as optim\n",
        "import torch.nn.functional as F\n",
        "from torch.utils.data import DataLoader, TensorDataset\n",
        "import torchvision.models as models\n",
        "\n",
        "# 1. Prepare the dataset combining images and metadata\n",
        "\n",
        "# Assuming X_scaled_train and X_scaled_test are metadata (scaled),\n",
        "# and train_images and test_images are your image tensors.\n",
        "\n",
        "# Load metadata\n",
        "X_train = torch.tensor(X_scaled_train, dtype=torch.float32)\n",
        "X_val = torch.tensor(X_scaled_test, dtype=torch.float32)\n",
        "y_train = torch.tensor(y_train, dtype=torch.long)\n",
        "y_val = torch.tensor(y_test, dtype=torch.long)\n",
        "\n",
        "# Combine image data and metadata into one dataset\n",
        "class CombinedDataset(torch.utils.data.Dataset):\n",
        "    def __init__(self, images, metadata, labels):\n",
        "        self.images = images\n",
        "        self.metadata = metadata\n",
        "        self.labels = labels\n",
        "\n",
        "    def __len__(self):\n",
        "        return len(self.images)\n",
        "\n",
        "    def __getitem__(self, idx):\n",
        "        image = self.images[idx]\n",
        "        meta = self.metadata[idx]\n",
        "        label = self.labels[idx]\n",
        "        return image, meta, label\n",
        "\n",
        "train_dataset = CombinedDataset(train_images, X_train, y_train)\n",
        "test_dataset = CombinedDataset(test_images, X_val, y_val)\n",
        "\n",
        "train_loader = DataLoader(train_dataset, batch_size=32, shuffle=True)\n",
        "test_loader = DataLoader(test_dataset, batch_size=32, shuffle=False)\n",
        "\n",
        "# 2. Define the hybrid model (VGG16 + FC)\n",
        "\n",
        "class HybridVGG16FCModel(nn.Module):\n",
        "    def __init__(self, num_classes=8, metadata_dim=3):\n",
        "        super(HybridVGG16FCModel, self).__init__()\n",
        "\n",
        "        # Load pre-trained VGG16 model\n",
        "        vgg16 = models.vgg16(pretrained=True)\n",
        "\n",
        "        # Use VGG16 layers, but remove the fully connected layers (classifier)\n",
        "        self.features = vgg16.features\n",
        "\n",
        "        # Get the size of the output from the VGG16 feature extractor\n",
        "        with torch.no_grad():\n",
        "            dummy_input = torch.zeros(1, 3, 224, 224)  # VGG16 expects 224x224 images\n",
        "            cnn_output = self.features(dummy_input)\n",
        "            flattened_size = cnn_output.view(1, -1).size(1)  # Flatten the output\n",
        "\n",
        "        # Fully connected layers for classification\n",
        "        self.fc1 = nn.Linear(flattened_size + metadata_dim, 128)  # Input is CNN output + metadata\n",
        "        self.fc2 = nn.Linear(128, 64)\n",
        "        self.fc3 = nn.Linear(64, num_classes)\n",
        "        self.relu = nn.ReLU()\n",
        "\n",
        "    def forward(self, image, metadata):\n",
        "        # VGG16 feature extraction\n",
        "        x = self.features(image)\n",
        "        x = x.view(x.size(0), -1)  # Flatten the output\n",
        "\n",
        "        # Concatenate CNN features with metadata\n",
        "        x = torch.cat((x, metadata), dim=1)\n",
        "\n",
        "        # Fully connected layers for classification\n",
        "        x = self.relu(self.fc1(x))\n",
        "        x = self.relu(self.fc2(x))\n",
        "        x = self.fc3(x)  # Output layer without softmax\n",
        "        return x  # No softmax here, as CrossEntropyLoss handles it internally\n",
        "\n",
        "\n",
        "# 3. Initialize the model, loss function, and optimizer\n",
        "\n",
        "device = torch.device('cuda' if torch.cuda.is_available() else 'cpu')\n",
        "model = HybridVGG16FCModel(num_classes=8, metadata_dim=X_train.shape[1]).to(device)\n",
        "\n",
        "criterion = nn.CrossEntropyLoss()\n",
        "optimizer = optim.Adam(model.parameters(), lr=0.0001)\n",
        "\n",
        "# 4. Training and testing loop\n",
        "\n",
        "num_epochs = 40\n",
        "trainingHolder = []\n",
        "testingHolder = []\n",
        "\n",
        "for epoch in range(num_epochs):\n",
        "    model.train()\n",
        "    running_loss = 0.0\n",
        "    correct_preds = 0\n",
        "    total_preds = 0\n",
        "\n",
        "    for images, metadata, labels in train_loader:\n",
        "        images, metadata, labels = images.to(device), metadata.to(device), labels.to(device)\n",
        "\n",
        "        # Forward pass\n",
        "        outputs = model(images, metadata)\n",
        "        loss = criterion(outputs, labels)\n",
        "\n",
        "        # Backward pass and optimization\n",
        "        optimizer.zero_grad()\n",
        "        loss.backward()\n",
        "        optimizer.step()\n",
        "\n",
        "        running_loss += loss.item()\n",
        "        _, predicted = torch.max(outputs, 1)\n",
        "        correct_preds += (predicted == labels).sum().item()\n",
        "        total_preds += labels.size(0)\n",
        "\n",
        "    avg_loss = running_loss / len(train_loader)\n",
        "    accuracy = (correct_preds / total_preds) * 100\n",
        "    trainingHolder.append(accuracy)\n",
        "\n",
        "    # Validation loop\n",
        "    model.eval()\n",
        "    correct_preds = 0\n",
        "    total_preds = 0\n",
        "    with torch.no_grad():\n",
        "        for images, metadata, labels in test_loader:\n",
        "            images, metadata, labels = images.to(device), metadata.to(device), labels.to(device)\n",
        "            outputs = model(images, metadata)\n",
        "            _, predicted = torch.max(outputs, 1)\n",
        "            correct_preds += (predicted == labels).sum().item()\n",
        "            total_preds += labels.size(0)\n",
        "\n",
        "    accuracy = (correct_preds / total_preds) * 100\n",
        "    testingHolder.append(accuracy)\n",
        "\n",
        "    print(f\"Epoch [{epoch+1}/{num_epochs}], Loss: {avg_loss:.4f}, Training Accuracy: {accuracy:.2f}%\")\n"
      ]
    },
    {
      "cell_type": "code",
      "source": [
        "def test():\n",
        "  model = HybridVGG16FCModel(num_classes=8, metadata_dim=X_train.shape[1]).to(device)\n",
        "\n",
        "  criterion = nn.CrossEntropyLoss()\n",
        "  optimizer = optim.Adam(model.parameters(), lr=0.0001)\n",
        "\n",
        "  # 4. Training and testing loop\n",
        "\n",
        "  num_epochs = 40\n",
        "  trainingHolder = []\n",
        "  testingHolder = []\n",
        "\n",
        "  for epoch in range(num_epochs):\n",
        "      model.train()\n",
        "      running_loss = 0.0\n",
        "      correct_preds = 0\n",
        "      total_preds = 0\n",
        "\n",
        "      for images, metadata, labels in train_loader:\n",
        "          images, metadata, labels = images.to(device), metadata.to(device), labels.to(device)\n",
        "\n",
        "          # Forward pass\n",
        "          outputs = model(images, metadata)\n",
        "          loss = criterion(outputs, labels)\n",
        "\n",
        "          # Backward pass and optimization\n",
        "          optimizer.zero_grad()\n",
        "          loss.backward()\n",
        "          optimizer.step()\n",
        "\n",
        "          running_loss += loss.item()\n",
        "          _, predicted = torch.max(outputs, 1)\n",
        "          correct_preds += (predicted == labels).sum().item()\n",
        "          total_preds += labels.size(0)\n",
        "\n",
        "      avg_loss = running_loss / len(train_loader)\n",
        "      accuracy = (correct_preds / total_preds) * 100\n",
        "      trainingHolder.append(accuracy)\n",
        "\n",
        "      # Validation loop\n",
        "      model.eval()\n",
        "      correct_preds = 0\n",
        "      total_preds = 0\n",
        "      with torch.no_grad():\n",
        "          for images, metadata, labels in test_loader:\n",
        "              images, metadata, labels = images.to(device), metadata.to(device), labels.to(device)\n",
        "              outputs = model(images, metadata)\n",
        "              _, predicted = torch.max(outputs, 1)\n",
        "              correct_preds += (predicted == labels).sum().item()\n",
        "              total_preds += labels.size(0)\n",
        "\n",
        "      accuracy = (correct_preds / total_preds) * 100\n",
        "      testingHolder.append(accuracy)\n",
        "\n",
        "      # print(f\"Epoch [{epoch+1}/{num_epochs}], Loss: {avg_loss:.4f}, Training Accuracy: {accuracy:.2f}%\")\n",
        "  return max(testingHolder)\n"
      ],
      "metadata": {
        "id": "DRryVDpoQ_4D"
      },
      "execution_count": 9,
      "outputs": []
    },
    {
      "cell_type": "code",
      "source": [
        "from tqdm import tqdm\n",
        "\n",
        "acc = []\n",
        "for i in tqdm(range(10)):\n",
        "  acc.append(test())"
      ],
      "metadata": {
        "colab": {
          "base_uri": "https://localhost:8080/"
        },
        "id": "wbBo0M_zRABK",
        "outputId": "a30e995b-85c4-4286-f1b9-0fe384d0826e"
      },
      "execution_count": 10,
      "outputs": [
        {
          "output_type": "stream",
          "name": "stderr",
          "text": [
            "\r  0%|          | 0/10 [00:00<?, ?it/s]/usr/local/lib/python3.10/dist-packages/torchvision/models/_utils.py:208: UserWarning: The parameter 'pretrained' is deprecated since 0.13 and may be removed in the future, please use 'weights' instead.\n",
            "  warnings.warn(\n",
            "/usr/local/lib/python3.10/dist-packages/torchvision/models/_utils.py:223: UserWarning: Arguments other than a weight enum or `None` for 'weights' are deprecated since 0.13 and may be removed in the future. The current behavior is equivalent to passing `weights=VGG16_Weights.IMAGENET1K_V1`. You can also use `weights=VGG16_Weights.DEFAULT` to get the most up-to-date weights.\n",
            "  warnings.warn(msg)\n",
            "100%|██████████| 10/10 [21:58<00:00, 131.84s/it]\n"
          ]
        }
      ]
    },
    {
      "cell_type": "code",
      "execution_count": 7,
      "metadata": {
        "colab": {
          "base_uri": "https://localhost:8080/",
          "height": 564
        },
        "id": "4-oVJFLskfOd",
        "outputId": "cdde62cf-6c19-416e-cdf6-fac07776a519"
      },
      "outputs": [
        {
          "output_type": "display_data",
          "data": {
            "text/plain": [
              "<Figure size 800x600 with 1 Axes>"
            ],
            "image/png": "[encoded data removed]"
          },
          "metadata": {}
        }
      ],
      "source": [
        "epochs = range(1, len(trainingHolder) + 1)\n",
        "\n",
        "# Create the plot\n",
        "plt.figure(figsize=(8, 6))\n",
        "plt.plot(epochs, trainingHolder, label='Training Accuracy', marker='o', color='blue')\n",
        "plt.plot(epochs, testingHolder, label='Testing Accuracy', marker='s', color='orange')\n",
        "\n",
        "# Add labels, title, and legend\n",
        "plt.xlabel('Epochs')\n",
        "plt.ylabel('Accuracy')\n",
        "plt.title('Training vs Testing Accuracy')\n",
        "plt.legend()\n",
        "plt.grid(True)\n",
        "\n",
        "# Show the plot\n",
        "plt.show()"
      ]
    },
    {
      "cell_type": "code",
      "execution_count": 8,
      "metadata": {
        "colab": {
          "base_uri": "https://localhost:8080/"
        },
        "id": "Po-J4kB5lQ6F",
        "outputId": "c108fb2b-8bc0-4253-f337-5a400c761b8e"
      },
      "outputs": [
        {
          "output_type": "execute_result",
          "data": {
            "text/plain": [
              "52.34375"
            ]
          },
          "metadata": {},
          "execution_count": 8
        }
      ],
      "source": [
        "max(testingHolder)"
      ]
    },
    {
      "cell_type": "code",
      "execution_count": 11,
      "metadata": {
        "colab": {
          "base_uri": "https://localhost:8080/"
        },
        "id": "v4fdAHfUlStU",
        "outputId": "d40a0683-2534-45fc-9ccb-b762a58f0b98"
      },
      "outputs": [
        {
          "output_type": "stream",
          "name": "stderr",
          "text": [
            "<ipython-input-11-2a5deb0dd9f0>:16: UserWarning: To copy construct from a tensor, it is recommended to use sourceTensor.clone().detach() or sourceTensor.clone().detach().requires_grad_(True), rather than torch.tensor(sourceTensor).\n",
            "  y_train = torch.tensor(y_train, dtype=torch.long)\n"
          ]
        }
      ],
      "source": [
        "import torch\n",
        "import torch.nn as nn\n",
        "import torch.optim as optim\n",
        "import torch.nn.functional as F\n",
        "from torch.utils.data import DataLoader, TensorDataset\n",
        "import torchvision.models as models\n",
        "\n",
        "# 1. Prepare the dataset combining images and metadata\n",
        "\n",
        "# Assuming X_scaled_train and X_scaled_test are metadata (scaled),\n",
        "# and train_images and test_images are your image tensors.\n",
        "\n",
        "# Load metadata\n",
        "X_train = torch.tensor(X_scaled_train, dtype=torch.float32)\n",
        "X_val = torch.tensor(X_scaled_test, dtype=torch.float32)\n",
        "y_train = torch.tensor(y_train, dtype=torch.long)\n",
        "y_val = torch.tensor(y_test, dtype=torch.long)\n",
        "\n",
        "# Combine image data and metadata into one dataset\n",
        "class CombinedDataset(torch.utils.data.Dataset):\n",
        "    def __init__(self, images, metadata, labels):\n",
        "        self.images = images\n",
        "        self.metadata = metadata\n",
        "        self.labels = labels\n",
        "\n",
        "    def __len__(self):\n",
        "        return len(self.images)\n",
        "\n",
        "    def __getitem__(self, idx):\n",
        "        image = self.images[idx]\n",
        "        meta = self.metadata[idx]\n",
        "        label = self.labels[idx]\n",
        "        return image, meta, label\n",
        "\n",
        "train_dataset = CombinedDataset(train_images, X_train, y_train)\n",
        "test_dataset = CombinedDataset(test_images, X_val, y_val)\n",
        "\n",
        "train_loader = DataLoader(train_dataset, batch_size=32, shuffle=True)\n",
        "test_loader = DataLoader(test_dataset, batch_size=32, shuffle=False)\n",
        "\n",
        "# 2. Define the hybrid model (VGG16 + FC)\n",
        "\n",
        "class HybridVGG16FCModel(nn.Module):\n",
        "    def __init__(self, num_classes=8, metadata_dim=3):\n",
        "        super(HybridVGG16FCModel, self).__init__()\n",
        "\n",
        "        # Load pre-trained VGG16 model\n",
        "        vgg16 = models.vgg16(pretrained=True)\n",
        "\n",
        "        # Use VGG16 layers, but remove the fully connected layers (classifier)\n",
        "        self.features = vgg16.features\n",
        "\n",
        "        # Get the size of the output from the VGG16 feature extractor\n",
        "        with torch.no_grad():\n",
        "            dummy_input = torch.zeros(1, 3, 224, 224)  # VGG16 expects 224x224 images\n",
        "            cnn_output = self.features(dummy_input)\n",
        "            flattened_size = cnn_output.view(1, -1).size(1)  # Flatten the output\n",
        "\n",
        "        # Fully connected layers for classification\n",
        "        self.fc1 = nn.Linear(flattened_size + metadata_dim, 128)  # Input is CNN output + metadata\n",
        "        self.fc2 = nn.Linear(128, 64)\n",
        "        self.fc3 = nn.Linear(64, num_classes)\n",
        "        self.relu = nn.ReLU()\n",
        "\n",
        "    def forward(self, image, metadata):\n",
        "        # VGG16 feature extraction\n",
        "        x = self.features(image)\n",
        "        x = x.view(x.size(0), -1)  # Flatten the output\n",
        "\n",
        "        # Concatenate CNN features with metadata\n",
        "        x = torch.cat((x, metadata), dim=1)\n",
        "\n",
        "        # Fully connected layers for classification\n",
        "        x = self.relu(self.fc1(x))\n",
        "        x = self.relu(self.fc2(x))\n",
        "        x = self.fc3(x)  # Output layer without softmax\n",
        "        return x  # No softmax here, as CrossEntropyLoss handles it internally\n",
        "\n",
        "\n",
        "# 3. Initialize the model, loss function, and optimizer\n",
        "\n",
        "device = torch.device('cuda' if torch.cuda.is_available() else 'cpu')"
      ]
    },
    {
      "cell_type": "code",
      "source": [],
      "metadata": {
        "id": "G2vGlvAiR0u8"
      },
      "execution_count": null,
      "outputs": []
    }
  ],
  "metadata": {
    "accelerator": "GPU",
    "colab": {
      "gpuType": "A100",
      "provenance": [],
      "machine_shape": "hm"
    },
    "kernelspec": {
      "display_name": "Python 3",
      "name": "python3"
    },
    "language_info": {
      "name": "python"
    }
  },
  "nbformat": 4,
  "nbformat_minor": 0
}