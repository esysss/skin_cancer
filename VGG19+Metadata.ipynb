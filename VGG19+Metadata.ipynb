{
  "nbformat": 4,
  "nbformat_minor": 0,
  "metadata": {
    "colab": {
      "provenance": [],
      "machine_shape": "hm",
      "gpuType": "T4"
    },
    "kernelspec": {
      "name": "python3",
      "display_name": "Python 3"
    },
    "language_info": {
      "name": "python"
    },
    "accelerator": "GPU"
  },
  "cells": [
    {
      "cell_type": "code",
      "execution_count": null,
      "metadata": {
        "id": "dsHK4RjhdzG-"
      },
      "outputs": [],
      "source": [
        "import numpy as np\n",
        "import pandas as pd\n",
        "import matplotlib.pyplot as plt\n",
        "from sklearn.model_selection import train_test_split\n",
        "from torch.utils.data import DataLoader, TensorDataset\n",
        "import torch\n",
        "from sklearn.preprocessing import StandardScaler"
      ]
    },
    {
      "cell_type": "code",
      "source": [
        "train_data = pd.read_pickle('/content/drive/MyDrive/choosen/train.pkl')\n",
        "test_data = pd.read_pickle('/content/drive/MyDrive/choosen/test.pkl')\n",
        "\n",
        "train_metadata = pd.read_csv(\"/content/drive/MyDrive/choosen/train_metadata.csv\")\n",
        "test_metadata = pd.read_csv(\"/content/drive/MyDrive/choosen/test_metadata.csv\")"
      ],
      "metadata": {
        "id": "_qMVUsu5d8Rd"
      },
      "execution_count": null,
      "outputs": []
    },
    {
      "cell_type": "code",
      "source": [
        "import cv2\n",
        "import os\n",
        "import pandas as pd\n",
        "from tqdm import tqdm\n",
        "\n",
        "# Assuming `balanced_df` contains the image names in the 'image' column\n",
        "imgsTrainin = []\n",
        "# Output directory for resized images\n",
        "\n",
        "# Loop through the image names in balanced_df and process them\n",
        "for image_name in tqdm(train_data['image']):\n",
        "    # Construct the full image file path\n",
        "    image_path = os.path.join(\"/content/drive/MyDrive/choosen/\" + image_name + \".jpg\")  # Adjust extension if needed\n",
        "\n",
        "    # Read the image using OpenCV\n",
        "    image = cv2.imread(image_path)\n",
        "\n",
        "    if image is None:\n",
        "        print(f\"Image {image_name} not found or could not be read.\")\n",
        "        continue\n",
        "\n",
        "    # Resize the image to 500x500\n",
        "    resized_image = cv2.resize(image, (224, 224))\n",
        "    imgsTrainin.append(resized_image)\n",
        "\n",
        "    # Save the resized image to the output directory\n",
        "    # output_path = os.path.join(output_directory, image_name + \"_resized.jpg\")\n",
        "    # cv2.imwrite(output_path, resized_image)\n",
        "\n",
        "# Assuming `balanced_df` contains the image names in the 'image' column\n",
        "imgsTesting = []\n",
        "# Output directory for resized images\n",
        "\n",
        "# Loop through the image names in balanced_df and process them\n",
        "for image_name in tqdm(test_data['image']):\n",
        "    # Construct the full image file path\n",
        "    image_path = os.path.join(\"/content/drive/MyDrive/choosen/\" + image_name + \".jpg\")  # Adjust extension if needed\n",
        "\n",
        "    # Read the image using OpenCV\n",
        "    image = cv2.imread(image_path)\n",
        "\n",
        "    if image is None:\n",
        "        print(f\"Image {image_name} not found or could not be read.\")\n",
        "        continue\n",
        "\n",
        "    # Resize the image to 500x500\n",
        "    resized_image = cv2.resize(image, (224, 224))\n",
        "    imgsTesting.append(resized_image)\n",
        "\n",
        "    # Save the resized image to the output directory\n",
        "    # output_path = os.path.join(output_directory, image_name + \"_resized.jpg\")\n",
        "    # cv2.imwrite(output_path, resized_image)\n",
        "\n",
        "print(\"Image resizing completed.\")"
      ],
      "metadata": {
        "colab": {
          "base_uri": "https://localhost:8080/"
        },
        "id": "eNgTAIZ7eVVO",
        "outputId": "529ecfe6-4946-41a6-9881-ea9ba6817846"
      },
      "execution_count": null,
      "outputs": [
        {
          "output_type": "stream",
          "name": "stderr",
          "text": [
            "100%|██████████| 1528/1528 [33:35<00:00,  1.32s/it]\n",
            "100%|██████████| 384/384 [08:54<00:00,  1.39s/it]"
          ]
        },
        {
          "output_type": "stream",
          "name": "stdout",
          "text": [
            "Image resizing completed.\n"
          ]
        },
        {
          "output_type": "stream",
          "name": "stderr",
          "text": [
            "\n"
          ]
        }
      ]
    },
    {
      "cell_type": "code",
      "source": [
        "labels_one_hot = train_data.iloc[:, 1:].values\n",
        "labelstrain = [list(row).index(1.0) for row in labels_one_hot]\n",
        "labels_one_hot = test_data.iloc[:, 1:].values\n",
        "labelstest = [list(row).index(1.0) for row in labels_one_hot]\n",
        "\n",
        "stacked_array = np.stack(labelstrain)  # Shape: (num_samples, 3, 500, 500)\n",
        "torch_labels_train = torch.from_numpy(stacked_array)\n",
        "\n",
        "stacked_array = np.stack(labelstest)  # Shape: (num_samples, 3, 500, 500)\n",
        "torch_labels_test = torch.from_numpy(stacked_array)\n",
        "\n",
        "stacked_array = np.stack(imgsTrainin)  # Shape: (num_samples, 3, 500, 500)\n",
        "torch_images_train = torch.from_numpy(stacked_array).float()  # Ensure it's a float tensor\n",
        "\n",
        "stacked_array = np.stack(imgsTesting)  # Shape: (num_samples, 3, 500, 500)\n",
        "torch_images_test = torch.from_numpy(stacked_array).float()  # Ensure it's a float tensor\n",
        "\n",
        "# Example data (replace with your actual tensors)\n",
        "train_images = torch_images_train.permute(0, 3, 1, 2)\n",
        "test_images = torch_images_test.permute(0, 3, 1, 2)\n",
        "train_labels = torch_labels_train\n",
        "test_labels = torch_labels_test\n",
        "\n",
        "# Wrap into TensorDataset\n",
        "train_dataset = TensorDataset(train_images, train_labels)\n",
        "test_dataset = TensorDataset(test_images, test_labels)\n",
        "\n",
        "# DataLoader\n",
        "train_loader = DataLoader(train_dataset, batch_size=32, shuffle=True)\n",
        "test_loader = DataLoader(test_dataset, batch_size=32, shuffle=False)\n",
        "\n",
        "device = torch.device(\"cuda\" if torch.cuda.is_available() else \"cpu\")"
      ],
      "metadata": {
        "id": "cRZIxb2ZeXM8"
      },
      "execution_count": null,
      "outputs": []
    },
    {
      "cell_type": "code",
      "source": [
        "X_train = train_metadata.drop(columns=['image'])  # Remove 'image' column if not used for training\n",
        "y_train = np.array(labelstrain)  # Assuming this is a list or array of labels\n",
        "\n",
        "X_test = test_metadata.drop(columns=['image'])  # Remove 'image' column if not used for training\n",
        "y_test = np.array(labelstest)  # Assuming this is a list or array of labels\n",
        "\n",
        "# Normalize/Standardize the data (especially for age and anatomical site)\n",
        "scaler = StandardScaler()\n",
        "X_scaled_train = scaler.fit_transform(X_train)\n",
        "\n",
        "scaler = StandardScaler()\n",
        "X_scaled_test = scaler.fit_transform(X_test)\n",
        "\n",
        "imagenet_normalize = Normalize(mean=[0.485, 0.456, 0.406], std=[0.229, 0.224, 0.225])\n",
        "train_images = imagenet_normalize(train_images)\n",
        "test_images = imagenet_normalize(test_images)"
      ],
      "metadata": {
        "id": "2P5sJ3Kwk-tN"
      },
      "execution_count": null,
      "outputs": []
    },
    {
      "cell_type": "code",
      "source": [
        "import torch\n",
        "import torch.nn as nn\n",
        "import torch.optim as optim\n",
        "import torch.nn.functional as F\n",
        "from torch.utils.data import DataLoader, TensorDataset\n",
        "import torchvision.models as models\n",
        "\n",
        "# 1. Prepare the dataset combining images and metadata\n",
        "\n",
        "# Assuming X_scaled_train and X_scaled_test are metadata (scaled),\n",
        "# and train_images and test_images are your image tensors.\n",
        "\n",
        "# Load metadata\n",
        "X_train = torch.tensor(X_scaled_train, dtype=torch.float32)\n",
        "X_val = torch.tensor(X_scaled_test, dtype=torch.float32)\n",
        "y_train = torch.tensor(y_train, dtype=torch.long)\n",
        "y_val = torch.tensor(y_test, dtype=torch.long)\n",
        "\n",
        "# Combine image data and metadata into one dataset\n",
        "class CombinedDataset(torch.utils.data.Dataset):\n",
        "    def __init__(self, images, metadata, labels):\n",
        "        self.images = images\n",
        "        self.metadata = metadata\n",
        "        self.labels = labels\n",
        "\n",
        "    def __len__(self):\n",
        "        return len(self.images)\n",
        "\n",
        "    def __getitem__(self, idx):\n",
        "        image = self.images[idx]\n",
        "        meta = self.metadata[idx]\n",
        "        label = self.labels[idx]\n",
        "        return image, meta, label\n",
        "\n",
        "train_dataset = CombinedDataset(train_images, X_train, y_train)\n",
        "test_dataset = CombinedDataset(test_images, X_val, y_val)\n",
        "\n",
        "train_loader = DataLoader(train_dataset, batch_size=32, shuffle=True)\n",
        "test_loader = DataLoader(test_dataset, batch_size=32, shuffle=False)\n",
        "\n",
        "# 2. Define the hybrid model (VGG16 + FC)\n",
        "\n",
        "class HybridVGG16FCModel(nn.Module):\n",
        "    def __init__(self, num_classes=8, metadata_dim=3):\n",
        "        super(HybridVGG16FCModel, self).__init__()\n",
        "\n",
        "        # Load pre-trained VGG16 model\n",
        "        vgg16 = models.vgg19(pretrained=True)\n",
        "\n",
        "        # Use VGG16 layers, but remove the fully connected layers (classifier)\n",
        "        self.features = vgg16.features\n",
        "\n",
        "        # Get the size of the output from the VGG16 feature extractor\n",
        "        with torch.no_grad():\n",
        "            dummy_input = torch.zeros(1, 3, 224, 224)  # VGG16 expects 224x224 images\n",
        "            cnn_output = self.features(dummy_input)\n",
        "            flattened_size = cnn_output.view(1, -1).size(1)  # Flatten the output\n",
        "\n",
        "        # Fully connected layers for classification\n",
        "        self.fc1 = nn.Linear(flattened_size + metadata_dim, 128)  # Input is CNN output + metadata\n",
        "        self.fc2 = nn.Linear(128, 64)\n",
        "        self.fc3 = nn.Linear(64, num_classes)\n",
        "        self.relu = nn.ReLU()\n",
        "\n",
        "    def forward(self, image, metadata):\n",
        "        # VGG16 feature extraction\n",
        "        x = self.features(image)\n",
        "        x = x.view(x.size(0), -1)  # Flatten the output\n",
        "\n",
        "        # Concatenate CNN features with metadata\n",
        "        x = torch.cat((x, metadata), dim=1)\n",
        "\n",
        "        # Fully connected layers for classification\n",
        "        x = self.relu(self.fc1(x))\n",
        "        x = self.relu(self.fc2(x))\n",
        "        x = self.fc3(x)  # Output layer without softmax\n",
        "        return x  # No softmax here, as CrossEntropyLoss handles it internally\n",
        "\n",
        "\n",
        "# 3. Initialize the model, loss function, and optimizer\n",
        "\n",
        "device = torch.device('cuda' if torch.cuda.is_available() else 'cpu')\n",
        "model = HybridVGG16FCModel(num_classes=8, metadata_dim=X_train.shape[1]).to(device)\n",
        "\n",
        "criterion = nn.CrossEntropyLoss()\n",
        "optimizer = optim.Adam(model.parameters(), lr=0.0001)\n",
        "\n",
        "# 4. Training and testing loop\n",
        "\n",
        "num_epochs = 40\n",
        "trainingHolder = []\n",
        "testingHolder = []\n",
        "\n",
        "for epoch in range(num_epochs):\n",
        "    model.train()\n",
        "    running_loss = 0.0\n",
        "    correct_preds = 0\n",
        "    total_preds = 0\n",
        "\n",
        "    for images, metadata, labels in train_loader:\n",
        "        images, metadata, labels = images.to(device), metadata.to(device), labels.to(device)\n",
        "\n",
        "        # Forward pass\n",
        "        outputs = model(images, metadata)\n",
        "        loss = criterion(outputs, labels)\n",
        "\n",
        "        # Backward pass and optimization\n",
        "        optimizer.zero_grad()\n",
        "        loss.backward()\n",
        "        optimizer.step()\n",
        "\n",
        "        running_loss += loss.item()\n",
        "        _, predicted = torch.max(outputs, 1)\n",
        "        correct_preds += (predicted == labels).sum().item()\n",
        "        total_preds += labels.size(0)\n",
        "\n",
        "    avg_loss = running_loss / len(train_loader)\n",
        "    accuracy = (correct_preds / total_preds) * 100\n",
        "    trainingHolder.append(accuracy)\n",
        "\n",
        "    # Validation loop\n",
        "    model.eval()\n",
        "    correct_preds = 0\n",
        "    total_preds = 0\n",
        "    with torch.no_grad():\n",
        "        for images, metadata, labels in test_loader:\n",
        "            images, metadata, labels = images.to(device), metadata.to(device), labels.to(device)\n",
        "            outputs = model(images, metadata)\n",
        "            _, predicted = torch.max(outputs, 1)\n",
        "            correct_preds += (predicted == labels).sum().item()\n",
        "            total_preds += labels.size(0)\n",
        "\n",
        "    accuracy = (correct_preds / total_preds) * 100\n",
        "    testingHolder.append(accuracy)\n",
        "\n",
        "    print(f\"Epoch [{epoch+1}/{num_epochs}], Loss: {avg_loss:.4f}, Training Accuracy: {accuracy:.2f}%\")\n"
      ],
      "metadata": {
        "colab": {
          "base_uri": "https://localhost:8080/"
        },
        "id": "i_ORV4JOlAzN",
        "outputId": "5ebdd90b-ca01-4468-ed8c-9d4a398d4513"
      },
      "execution_count": null,
      "outputs": [
        {
          "output_type": "stream",
          "name": "stderr",
          "text": [
            "/usr/local/lib/python3.10/dist-packages/torchvision/models/_utils.py:208: UserWarning: The parameter 'pretrained' is deprecated since 0.13 and may be removed in the future, please use 'weights' instead.\n",
            "  warnings.warn(\n",
            "/usr/local/lib/python3.10/dist-packages/torchvision/models/_utils.py:223: UserWarning: Arguments other than a weight enum or `None` for 'weights' are deprecated since 0.13 and may be removed in the future. The current behavior is equivalent to passing `weights=VGG19_Weights.IMAGENET1K_V1`. You can also use `weights=VGG19_Weights.DEFAULT` to get the most up-to-date weights.\n",
            "  warnings.warn(msg)\n",
            "Downloading: \"https://download.pytorch.org/models/vgg19-dcbb9e9d.pth\" to /root/.cache/torch/hub/checkpoints/vgg19-dcbb9e9d.pth\n",
            "100%|██████████| 548M/548M [00:02<00:00, 228MB/s]\n"
          ]
        },
        {
          "output_type": "stream",
          "name": "stdout",
          "text": [
            "Epoch [1/40], Loss: 1.9742, Training Accuracy: 31.77%\n",
            "Epoch [2/40], Loss: 1.7924, Training Accuracy: 33.33%\n",
            "Epoch [3/40], Loss: 1.6273, Training Accuracy: 39.32%\n",
            "Epoch [4/40], Loss: 1.4939, Training Accuracy: 41.67%\n",
            "Epoch [5/40], Loss: 1.3313, Training Accuracy: 39.32%\n",
            "Epoch [6/40], Loss: 1.2353, Training Accuracy: 43.49%\n",
            "Epoch [7/40], Loss: 1.1133, Training Accuracy: 42.97%\n",
            "Epoch [8/40], Loss: 1.0287, Training Accuracy: 47.40%\n",
            "Epoch [9/40], Loss: 0.8502, Training Accuracy: 48.44%\n",
            "Epoch [10/40], Loss: 0.7461, Training Accuracy: 44.01%\n",
            "Epoch [11/40], Loss: 0.7403, Training Accuracy: 45.83%\n",
            "Epoch [12/40], Loss: 0.5238, Training Accuracy: 47.14%\n",
            "Epoch [13/40], Loss: 0.4507, Training Accuracy: 47.14%\n",
            "Epoch [14/40], Loss: 0.3221, Training Accuracy: 48.44%\n",
            "Epoch [15/40], Loss: 0.2434, Training Accuracy: 52.60%\n",
            "Epoch [16/40], Loss: 0.2592, Training Accuracy: 50.26%\n",
            "Epoch [17/40], Loss: 0.2837, Training Accuracy: 50.52%\n",
            "Epoch [18/40], Loss: 0.2766, Training Accuracy: 46.61%\n",
            "Epoch [19/40], Loss: 0.1951, Training Accuracy: 51.82%\n",
            "Epoch [20/40], Loss: 0.1460, Training Accuracy: 47.14%\n",
            "Epoch [21/40], Loss: 0.2048, Training Accuracy: 42.97%\n",
            "Epoch [22/40], Loss: 0.1925, Training Accuracy: 50.78%\n",
            "Epoch [23/40], Loss: 0.0621, Training Accuracy: 53.91%\n",
            "Epoch [24/40], Loss: 0.0342, Training Accuracy: 52.08%\n",
            "Epoch [25/40], Loss: 0.0782, Training Accuracy: 47.40%\n",
            "Epoch [26/40], Loss: 0.1715, Training Accuracy: 46.35%\n",
            "Epoch [27/40], Loss: 0.1479, Training Accuracy: 51.04%\n",
            "Epoch [28/40], Loss: 0.0937, Training Accuracy: 49.48%\n",
            "Epoch [29/40], Loss: 0.1080, Training Accuracy: 50.78%\n",
            "Epoch [30/40], Loss: 0.0681, Training Accuracy: 48.70%\n",
            "Epoch [31/40], Loss: 0.0648, Training Accuracy: 45.31%\n",
            "Epoch [32/40], Loss: 0.0957, Training Accuracy: 47.40%\n",
            "Epoch [33/40], Loss: 0.1514, Training Accuracy: 44.01%\n",
            "Epoch [34/40], Loss: 0.0627, Training Accuracy: 47.40%\n",
            "Epoch [35/40], Loss: 0.0279, Training Accuracy: 47.40%\n",
            "Epoch [36/40], Loss: 0.0087, Training Accuracy: 50.00%\n",
            "Epoch [37/40], Loss: 0.0026, Training Accuracy: 50.26%\n",
            "Epoch [38/40], Loss: 0.0011, Training Accuracy: 52.08%\n",
            "Epoch [39/40], Loss: 0.0002, Training Accuracy: 52.34%\n",
            "Epoch [40/40], Loss: 0.0001, Training Accuracy: 52.34%\n"
          ]
        }
      ]
    },
    {
      "cell_type": "code",
      "source": [
        "epochs = range(1, len(trainingHolder) + 1)\n",
        "\n",
        "# Create the plot\n",
        "plt.figure(figsize=(8, 6))\n",
        "plt.plot(epochs, trainingHolder, label='Training Accuracy', marker='o', color='blue')\n",
        "plt.plot(epochs, testingHolder, label='Testing Accuracy', marker='s', color='orange')\n",
        "\n",
        "# Add labels, title, and legend\n",
        "plt.xlabel('Epochs')\n",
        "plt.ylabel('Accuracy')\n",
        "plt.title('Training vs Testing Accuracy')\n",
        "plt.legend()\n",
        "plt.grid(True)\n",
        "\n",
        "# Show the plot\n",
        "plt.show()"
      ],
      "metadata": {
        "colab": {
          "base_uri": "https://localhost:8080/",
          "height": 564
        },
        "id": "MH8IB1EwlNgk",
        "outputId": "0498c892-0da9-4c00-abc8-bc90b8a489c8"
      },
      "execution_count": null,
      "outputs": [
        {
          "output_type": "display_data",
          "data": {
            "text/plain": [
              "<Figure size 800x600 with 1 Axes>"
            ],
            "image/png": "[encoded data removed]"
          },
          "metadata": {}
        }
      ]
    },
    {
      "cell_type": "code",
      "source": [
        "max(testingHolder)"
      ],
      "metadata": {
        "colab": {
          "base_uri": "https://localhost:8080/"
        },
        "id": "5IUesTkFlU_M",
        "outputId": "e7b94962-71f4-418f-fa2a-ac08ba2375f3"
      },
      "execution_count": null,
      "outputs": [
        {
          "output_type": "execute_result",
          "data": {
            "text/plain": [
              "53.90625"
            ]
          },
          "metadata": {},
          "execution_count": 8
        }
      ]
    },
    {
      "cell_type": "code",
      "source": [],
      "metadata": {
        "id": "9fGrqqePlWs0"
      },
      "execution_count": null,
      "outputs": []
    }
  ]
}