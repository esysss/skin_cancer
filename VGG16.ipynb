{
  "nbformat": 4,
  "nbformat_minor": 0,
  "metadata": {
    "colab": {
      "provenance": [],
      "gpuType": "T4"
    },
    "kernelspec": {
      "name": "python3",
      "display_name": "Python 3"
    },
    "language_info": {
      "name": "python"
    },
    "accelerator": "GPU"
  },
  "cells": [
    {
      "cell_type": "code",
      "execution_count": null,
      "metadata": {
        "id": "Wm9yQdk1g2Yl"
      },
      "outputs": [],
      "source": [
        "import numpy as np\n",
        "import pandas as pd\n",
        "import matplotlib.pyplot as plt\n",
        "import torch\n",
        "import torch.nn as nn\n",
        "import torch.nn.functional as F\n",
        "from torch.utils.data import DataLoader, TensorDataset\n",
        "from sklearn.model_selection import train_test_split"
      ]
    },
    {
      "cell_type": "code",
      "source": [
        "train_data = pd.read_pickle('/content/drive/MyDrive/choosen/train.pkl')\n",
        "test_data = pd.read_pickle('/content/drive/MyDrive/choosen/test.pkl')"
      ],
      "metadata": {
        "id": "DTVgZeN6s-fz"
      },
      "execution_count": null,
      "outputs": []
    },
    {
      "cell_type": "code",
      "source": [
        "import cv2\n",
        "import os\n",
        "import pandas as pd\n",
        "from tqdm import tqdm\n",
        "\n",
        "# Assuming `balanced_df` contains the image names in the 'image' column\n",
        "imgsTrainin = []\n",
        "# Output directory for resized images\n",
        "\n",
        "# Loop through the image names in balanced_df and process them\n",
        "for image_name in tqdm(train_data['image']):\n",
        "    # Construct the full image file path\n",
        "    image_path = os.path.join(\"/content/drive/MyDrive/choosen/\" + image_name + \".jpg\")  # Adjust extension if needed\n",
        "\n",
        "    # Read the image using OpenCV\n",
        "    image = cv2.imread(image_path)\n",
        "\n",
        "    if image is None:\n",
        "        print(f\"Image {image_name} not found or could not be read.\")\n",
        "        continue\n",
        "\n",
        "    # Resize the image to 500x500\n",
        "    resized_image = cv2.resize(image, (224, 224))\n",
        "    imgsTrainin.append(resized_image)\n",
        "\n",
        "    # Save the resized image to the output directory\n",
        "    # output_path = os.path.join(output_directory, image_name + \"_resized.jpg\")\n",
        "    # cv2.imwrite(output_path, resized_image)\n",
        "\n",
        "# Assuming `balanced_df` contains the image names in the 'image' column\n",
        "imgsTesting = []\n",
        "# Output directory for resized images\n",
        "\n",
        "# Loop through the image names in balanced_df and process them\n",
        "for image_name in tqdm(test_data['image']):\n",
        "    # Construct the full image file path\n",
        "    image_path = os.path.join(\"/content/drive/MyDrive/choosen/\" + image_name + \".jpg\")  # Adjust extension if needed\n",
        "\n",
        "    # Read the image using OpenCV\n",
        "    image = cv2.imread(image_path)\n",
        "\n",
        "    if image is None:\n",
        "        print(f\"Image {image_name} not found or could not be read.\")\n",
        "        continue\n",
        "\n",
        "    # Resize the image to 500x500\n",
        "    resized_image = cv2.resize(image, (224, 224))\n",
        "    imgsTesting.append(resized_image)\n",
        "\n",
        "    # Save the resized image to the output directory\n",
        "    # output_path = os.path.join(output_directory, image_name + \"_resized.jpg\")\n",
        "    # cv2.imwrite(output_path, resized_image)\n",
        "\n",
        "print(\"Image resizing completed.\")"
      ],
      "metadata": {
        "colab": {
          "base_uri": "https://localhost:8080/"
        },
        "id": "B0v7uEdCtn97",
        "outputId": "ae50811a-0dad-4fb3-9f20-bfff27aaa728"
      },
      "execution_count": null,
      "outputs": [
        {
          "output_type": "stream",
          "name": "stderr",
          "text": [
            "100%|██████████| 1528/1528 [25:00<00:00,  1.02it/s]\n",
            "100%|██████████| 384/384 [06:15<00:00,  1.02it/s]"
          ]
        },
        {
          "output_type": "stream",
          "name": "stdout",
          "text": [
            "Image resizing completed.\n"
          ]
        },
        {
          "output_type": "stream",
          "name": "stderr",
          "text": [
            "\n"
          ]
        }
      ]
    },
    {
      "cell_type": "code",
      "source": [
        "labels_one_hot = train_data.iloc[:, 1:].values\n",
        "labelstrain = [list(row).index(1.0) for row in labels_one_hot]\n",
        "labels_one_hot = test_data.iloc[:, 1:].values\n",
        "labelstest = [list(row).index(1.0) for row in labels_one_hot]\n",
        "\n",
        "stacked_array = np.stack(labelstrain)  # Shape: (num_samples, 3, 500, 500)\n",
        "torch_labels_train = torch.from_numpy(stacked_array)\n",
        "\n",
        "stacked_array = np.stack(labelstest)  # Shape: (num_samples, 3, 500, 500)\n",
        "torch_labels_test = torch.from_numpy(stacked_array)\n",
        "\n",
        "stacked_array = np.stack(imgsTrainin)  # Shape: (num_samples, 3, 500, 500)\n",
        "torch_images_train = torch.from_numpy(stacked_array).float()  # Ensure it's a float tensor\n",
        "\n",
        "stacked_array = np.stack(imgsTesting)  # Shape: (num_samples, 3, 500, 500)\n",
        "torch_images_test = torch.from_numpy(stacked_array).float()  # Ensure it's a float tensor"
      ],
      "metadata": {
        "id": "S7qxHMcr6ufE"
      },
      "execution_count": null,
      "outputs": []
    },
    {
      "cell_type": "code",
      "source": [
        "# Example data (replace with your actual tensors)\n",
        "train_images = torch_images_train.permute(0, 3, 1, 2)\n",
        "test_images = torch_images_test.permute(0, 3, 1, 2)\n",
        "train_labels = torch_labels_train\n",
        "test_labels = torch_labels_test\n",
        "\n",
        "# Wrap into TensorDataset\n",
        "train_dataset = TensorDataset(train_images, train_labels)\n",
        "test_dataset = TensorDataset(test_images, test_labels)\n",
        "\n",
        "# DataLoader\n",
        "train_loader = DataLoader(train_dataset, batch_size=32, shuffle=True)\n",
        "test_loader = DataLoader(test_dataset, batch_size=32, shuffle=False)"
      ],
      "metadata": {
        "id": "sVyhyeqU8ak8"
      },
      "execution_count": null,
      "outputs": []
    },
    {
      "cell_type": "code",
      "source": [
        "from torchvision.models import vgg16\n",
        "import torch.nn as nn\n",
        "from torchvision.transforms import Normalize\n",
        "\n",
        "# Normalize the dataset using ImageNet's mean and standard deviation\n",
        "imagenet_normalize = Normalize(mean=[0.485, 0.456, 0.406], std=[0.229, 0.224, 0.225])\n",
        "train_images = imagenet_normalize(train_images)\n",
        "test_images = imagenet_normalize(test_images)\n",
        "\n",
        "# Create TensorDatasets\n",
        "train_dataset = TensorDataset(train_images, train_labels)\n",
        "test_dataset = TensorDataset(test_images, test_labels)\n",
        "\n",
        "# Create DataLoaders\n",
        "train_loader = DataLoader(train_dataset, batch_size=32, shuffle=True)\n",
        "test_loader = DataLoader(test_dataset, batch_size=32, shuffle=False)\n",
        "\n",
        "# Load the pretrained VGG-16 model\n",
        "model = vgg16(pretrained=True)\n",
        "\n",
        "# Modify the classifier to match your dataset's number of classes\n",
        "num_classes = len(torch.unique(train_labels))  # Adjust based on your dataset\n",
        "model.classifier[6] = nn.Linear(4096, num_classes)\n",
        "\n",
        "# Move the model to GPU if available\n",
        "device = torch.device(\"cuda\" if torch.cuda.is_available() else \"cpu\")\n",
        "model = model.to(device)"
      ],
      "metadata": {
        "id": "tyh0lMmXuia6",
        "colab": {
          "base_uri": "https://localhost:8080/"
        },
        "outputId": "68629ff5-d9c0-4dcc-ffaa-4a75b47e2444"
      },
      "execution_count": null,
      "outputs": [
        {
          "output_type": "stream",
          "name": "stderr",
          "text": [
            "/usr/local/lib/python3.10/dist-packages/torchvision/models/_utils.py:208: UserWarning: The parameter 'pretrained' is deprecated since 0.13 and may be removed in the future, please use 'weights' instead.\n",
            "  warnings.warn(\n",
            "/usr/local/lib/python3.10/dist-packages/torchvision/models/_utils.py:223: UserWarning: Arguments other than a weight enum or `None` for 'weights' are deprecated since 0.13 and may be removed in the future. The current behavior is equivalent to passing `weights=VGG16_Weights.IMAGENET1K_V1`. You can also use `weights=VGG16_Weights.DEFAULT` to get the most up-to-date weights.\n",
            "  warnings.warn(msg)\n",
            "Downloading: \"https://download.pytorch.org/models/vgg16-397923af.pth\" to /root/.cache/torch/hub/checkpoints/vgg16-397923af.pth\n",
            "100%|██████████| 528M/528M [00:03<00:00, 171MB/s]\n"
          ]
        }
      ]
    },
    {
      "cell_type": "code",
      "source": [
        "import torch.optim as optim\n",
        "\n",
        "# Define loss function and optimizer\n",
        "criterion = nn.CrossEntropyLoss()\n",
        "optimizer = optim.Adam(model.parameters(), lr=0.0001)"
      ],
      "metadata": {
        "id": "McE-I7XO6k_E"
      },
      "execution_count": null,
      "outputs": []
    },
    {
      "cell_type": "code",
      "source": [
        "# Training loop\n",
        "trainingHolder = []\n",
        "testingHolder = []\n",
        "\n",
        "epochs = 30  # Adjust the number of epochs as needed\n",
        "for epoch in range(epochs):\n",
        "  model.train()\n",
        "  running_loss = 0.0\n",
        "  for images, labels in train_loader:\n",
        "      images, labels = images.to(device), labels.to(device)\n",
        "\n",
        "      # Forward pass\n",
        "      outputs = model(images)\n",
        "      loss = criterion(outputs, labels)\n",
        "\n",
        "      # Backward pass and optimization\n",
        "      optimizer.zero_grad()\n",
        "      loss.backward()\n",
        "      optimizer.step()\n",
        "\n",
        "      running_loss += loss.item()\n",
        "\n",
        "    # Evaluation loop\n",
        "  model.eval()\n",
        "  correct = 0\n",
        "  total = 0\n",
        "  with torch.no_grad():\n",
        "      for images, labels in test_loader:\n",
        "          images, labels = images.to(device), labels.to(device)\n",
        "\n",
        "          outputs = model(images)\n",
        "          _, predicted = torch.max(outputs, 1)\n",
        "          total += labels.size(0)\n",
        "          correct += (predicted == labels).sum().item()\n",
        "\n",
        "  testingHolder.append(100 * correct / total)\n",
        "\n",
        "  model.eval()\n",
        "  correct = 0\n",
        "  total = 0\n",
        "  with torch.no_grad():\n",
        "      for images, labels in train_loader:\n",
        "          images, labels = images.to(device), labels.to(device)\n",
        "\n",
        "          outputs = model(images)\n",
        "          _, predicted = torch.max(outputs, 1)\n",
        "          total += labels.size(0)\n",
        "          correct += (predicted == labels).sum().item()\n",
        "\n",
        "  trainingHolder.append(100 * correct / total)\n",
        "\n",
        "  print(f\"Epoch {epoch+1}/{epochs}, Loss: {running_loss/len(train_loader):.4f}\")\n"
      ],
      "metadata": {
        "colab": {
          "base_uri": "https://localhost:8080/"
        },
        "id": "K5hdMvyT8sLE",
        "outputId": "ff385d66-3686-4ce6-9c6a-682b9c123df8"
      },
      "execution_count": null,
      "outputs": [
        {
          "output_type": "stream",
          "name": "stdout",
          "text": [
            "Epoch 1/30, Loss: 3.7365\n",
            "Epoch 2/30, Loss: 1.9642\n",
            "Epoch 3/30, Loss: 1.8603\n",
            "Epoch 4/30, Loss: 1.7123\n",
            "Epoch 5/30, Loss: 1.5899\n",
            "Epoch 6/30, Loss: 1.5104\n",
            "Epoch 7/30, Loss: 1.4882\n",
            "Epoch 8/30, Loss: 1.4744\n",
            "Epoch 9/30, Loss: 1.3491\n",
            "Epoch 10/30, Loss: 1.3533\n",
            "Epoch 11/30, Loss: 1.1098\n",
            "Epoch 12/30, Loss: 0.9237\n",
            "Epoch 13/30, Loss: 0.8979\n",
            "Epoch 14/30, Loss: 0.8211\n",
            "Epoch 15/30, Loss: 0.9490\n",
            "Epoch 16/30, Loss: 0.6224\n",
            "Epoch 17/30, Loss: 0.4323\n",
            "Epoch 18/30, Loss: 0.4605\n",
            "Epoch 19/30, Loss: 0.5166\n",
            "Epoch 20/30, Loss: 0.3609\n",
            "Epoch 21/30, Loss: 0.3383\n",
            "Epoch 22/30, Loss: 0.6218\n",
            "Epoch 23/30, Loss: 0.3807\n",
            "Epoch 24/30, Loss: 0.2079\n",
            "Epoch 25/30, Loss: 0.0937\n",
            "Epoch 26/30, Loss: 0.2247\n",
            "Epoch 27/30, Loss: 0.3071\n",
            "Epoch 28/30, Loss: 0.1998\n",
            "Epoch 29/30, Loss: 0.1096\n",
            "Epoch 30/30, Loss: 0.0746\n"
          ]
        }
      ]
    },
    {
      "cell_type": "code",
      "source": [
        "epochs = range(1, len(trainingHolder) + 1)\n",
        "\n",
        "# Create the plot\n",
        "plt.figure(figsize=(8, 6))\n",
        "plt.plot(epochs, trainingHolder, label='Training Accuracy', marker='o', color='blue')\n",
        "plt.plot(epochs, testingHolder, label='Testing Accuracy', marker='s', color='orange')\n",
        "\n",
        "# Add labels, title, and legend\n",
        "plt.xlabel('Epochs')\n",
        "plt.ylabel('Accuracy')\n",
        "plt.title('Training vs Testing Accuracy')\n",
        "plt.legend()\n",
        "plt.grid(True)\n",
        "\n",
        "# Show the plot\n",
        "plt.show()"
      ],
      "metadata": {
        "colab": {
          "base_uri": "https://localhost:8080/",
          "height": 564
        },
        "id": "CFbKUD9Q8uk7",
        "outputId": "0d30b547-4b50-4f1f-8af6-14f6f11e4bd4"
      },
      "execution_count": null,
      "outputs": [
        {
          "output_type": "display_data",
          "data": {
            "text/plain": [
              "<Figure size 800x600 with 1 Axes>"
            ],
            "image/png": "[encoded data removed]"
          },
          "metadata": {}
        }
      ]
    },
    {
      "cell_type": "code",
      "source": [
        "testingHolder"
      ],
      "metadata": {
        "colab": {
          "base_uri": "https://localhost:8080/"
        },
        "id": "u_u7l3qSBWla",
        "outputId": "426f88b1-4694-4d38-c246-4a43c4f97d66"
      },
      "execution_count": null,
      "outputs": [
        {
          "output_type": "execute_result",
          "data": {
            "text/plain": [
              "[24.479166666666668,\n",
              " 21.875,\n",
              " 32.291666666666664,\n",
              " 29.427083333333332,\n",
              " 36.979166666666664,\n",
              " 39.322916666666664,\n",
              " 29.6875,\n",
              " 38.020833333333336,\n",
              " 40.104166666666664,\n",
              " 43.75,\n",
              " 43.489583333333336,\n",
              " 46.354166666666664,\n",
              " 44.010416666666664,\n",
              " 43.75,\n",
              " 43.229166666666664,\n",
              " 43.75,\n",
              " 43.229166666666664,\n",
              " 48.697916666666664,\n",
              " 47.135416666666664,\n",
              " 46.09375,\n",
              " 46.09375,\n",
              " 38.802083333333336,\n",
              " 47.395833333333336,\n",
              " 48.697916666666664,\n",
              " 47.916666666666664,\n",
              " 43.489583333333336,\n",
              " 45.572916666666664,\n",
              " 45.3125,\n",
              " 48.958333333333336,\n",
              " 46.875]"
            ]
          },
          "metadata": {},
          "execution_count": 10
        }
      ]
    },
    {
      "cell_type": "code",
      "source": [
        "max(testingHolder)"
      ],
      "metadata": {
        "id": "RXd1L65eZRR_"
      },
      "execution_count": null,
      "outputs": []
    },
    {
      "cell_type": "code",
      "source": [],
      "metadata": {
        "id": "8XM_8c3t3rrO"
      },
      "execution_count": null,
      "outputs": []
    }
  ]
}