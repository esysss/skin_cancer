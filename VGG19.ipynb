{
  "nbformat": 4,
  "nbformat_minor": 0,
  "metadata": {
    "colab": {
      "provenance": [],
      "machine_shape": "hm",
      "gpuType": "L4"
    },
    "kernelspec": {
      "name": "python3",
      "display_name": "Python 3"
    },
    "language_info": {
      "name": "python"
    },
    "accelerator": "GPU"
  },
  "cells": [
    {
      "cell_type": "code",
      "execution_count": 1,
      "metadata": {
        "id": "t3Lfqhf7ZrO2"
      },
      "outputs": [],
      "source": [
        "import numpy as np\n",
        "import pandas as pd\n",
        "import matplotlib.pyplot as plt\n",
        "import torch\n",
        "import torch.nn as nn\n",
        "import torch.nn.functional as F\n",
        "from torch.utils.data import DataLoader, TensorDataset\n",
        "from sklearn.model_selection import train_test_split"
      ]
    },
    {
      "cell_type": "code",
      "source": [
        "train_data = pd.read_pickle('/content/drive/MyDrive/choosen/train.pkl')\n",
        "test_data = pd.read_pickle('/content/drive/MyDrive/choosen/test.pkl')"
      ],
      "metadata": {
        "id": "X9QjY4QAchx4"
      },
      "execution_count": 2,
      "outputs": []
    },
    {
      "cell_type": "code",
      "source": [
        "import cv2\n",
        "import os\n",
        "import pandas as pd\n",
        "from tqdm import tqdm\n",
        "\n",
        "# Assuming `balanced_df` contains the image names in the 'image' column\n",
        "imgsTrainin = []\n",
        "# Output directory for resized images\n",
        "\n",
        "# Loop through the image names in balanced_df and process them\n",
        "for image_name in tqdm(train_data['image']):\n",
        "    # Construct the full image file path\n",
        "    image_path = os.path.join(\"/content/drive/MyDrive/choosen/\" + image_name + \".jpg\")  # Adjust extension if needed\n",
        "\n",
        "    # Read the image using OpenCV\n",
        "    image = cv2.imread(image_path)\n",
        "\n",
        "    if image is None:\n",
        "        print(f\"Image {image_name} not found or could not be read.\")\n",
        "        continue\n",
        "\n",
        "    # Resize the image to 500x500\n",
        "    resized_image = cv2.resize(image, (224, 224))\n",
        "    imgsTrainin.append(resized_image)\n",
        "\n",
        "    # Save the resized image to the output directory\n",
        "    # output_path = os.path.join(output_directory, image_name + \"_resized.jpg\")\n",
        "    # cv2.imwrite(output_path, resized_image)\n",
        "\n",
        "# Assuming `balanced_df` contains the image names in the 'image' column\n",
        "imgsTesting = []\n",
        "# Output directory for resized images\n",
        "\n",
        "# Loop through the image names in balanced_df and process them\n",
        "for image_name in tqdm(test_data['image']):\n",
        "    # Construct the full image file path\n",
        "    image_path = os.path.join(\"/content/drive/MyDrive/choosen/\" + image_name + \".jpg\")  # Adjust extension if needed\n",
        "\n",
        "    # Read the image using OpenCV\n",
        "    image = cv2.imread(image_path)\n",
        "\n",
        "    if image is None:\n",
        "        print(f\"Image {image_name} not found or could not be read.\")\n",
        "        continue\n",
        "\n",
        "    # Resize the image to 500x500\n",
        "    resized_image = cv2.resize(image, (224, 224))\n",
        "    imgsTesting.append(resized_image)\n",
        "\n",
        "    # Save the resized image to the output directory\n",
        "    # output_path = os.path.join(output_directory, image_name + \"_resized.jpg\")\n",
        "    # cv2.imwrite(output_path, resized_image)\n",
        "\n",
        "print(\"Image resizing completed.\")"
      ],
      "metadata": {
        "colab": {
          "base_uri": "https://localhost:8080/"
        },
        "id": "F7Jpom6IcmWu",
        "outputId": "c1c6558f-df15-4f06-ed29-2ec800660cc8"
      },
      "execution_count": 3,
      "outputs": [
        {
          "output_type": "stream",
          "name": "stderr",
          "text": [
            "100%|██████████| 1528/1528 [00:19<00:00, 77.24it/s]\n",
            "100%|██████████| 384/384 [00:05<00:00, 76.12it/s]"
          ]
        },
        {
          "output_type": "stream",
          "name": "stdout",
          "text": [
            "Image resizing completed.\n"
          ]
        },
        {
          "output_type": "stream",
          "name": "stderr",
          "text": [
            "\n"
          ]
        }
      ]
    },
    {
      "cell_type": "code",
      "source": [
        "labels_one_hot = train_data.iloc[:, 1:].values\n",
        "labelstrain = [list(row).index(1.0) for row in labels_one_hot]\n",
        "labels_one_hot = test_data.iloc[:, 1:].values\n",
        "labelstest = [list(row).index(1.0) for row in labels_one_hot]\n",
        "\n",
        "stacked_array = np.stack(labelstrain)  # Shape: (num_samples, 3, 500, 500)\n",
        "torch_labels_train = torch.from_numpy(stacked_array)\n",
        "\n",
        "stacked_array = np.stack(labelstest)  # Shape: (num_samples, 3, 500, 500)\n",
        "torch_labels_test = torch.from_numpy(stacked_array)\n",
        "\n",
        "stacked_array = np.stack(imgsTrainin)  # Shape: (num_samples, 3, 500, 500)\n",
        "torch_images_train = torch.from_numpy(stacked_array).float()  # Ensure it's a float tensor\n",
        "\n",
        "stacked_array = np.stack(imgsTesting)  # Shape: (num_samples, 3, 500, 500)\n",
        "torch_images_test = torch.from_numpy(stacked_array).float()  # Ensure it's a float tensor"
      ],
      "metadata": {
        "id": "F6WLgBMOcowe"
      },
      "execution_count": 4,
      "outputs": []
    },
    {
      "cell_type": "code",
      "source": [
        "# Example data (replace with your actual tensors)\n",
        "train_images = torch_images_train.permute(0, 3, 1, 2)\n",
        "test_images = torch_images_test.permute(0, 3, 1, 2)\n",
        "train_labels = torch_labels_train\n",
        "test_labels = torch_labels_test\n",
        "\n",
        "# Wrap into TensorDataset\n",
        "train_dataset = TensorDataset(train_images, train_labels)\n",
        "test_dataset = TensorDataset(test_images, test_labels)\n",
        "\n",
        "# DataLoader\n",
        "train_loader = DataLoader(train_dataset, batch_size=32, shuffle=True)\n",
        "test_loader = DataLoader(test_dataset, batch_size=32, shuffle=False)"
      ],
      "metadata": {
        "id": "TL7l1SvYjmaf"
      },
      "execution_count": 5,
      "outputs": []
    },
    {
      "cell_type": "code",
      "source": [
        "from torchvision.models import vgg19\n",
        "import torch.nn as nn\n",
        "from torchvision.transforms import Normalize\n",
        "\n",
        "# Normalize the dataset using ImageNet's mean and standard deviation\n",
        "imagenet_normalize = Normalize(mean=[0.485, 0.456, 0.406], std=[0.229, 0.224, 0.225])\n",
        "train_images = imagenet_normalize(train_images)\n",
        "test_images = imagenet_normalize(test_images)\n",
        "\n",
        "# Create TensorDatasets\n",
        "train_dataset = TensorDataset(train_images, train_labels)\n",
        "test_dataset = TensorDataset(test_images, test_labels)\n",
        "\n",
        "# Create DataLoaders\n",
        "train_loader = DataLoader(train_dataset, batch_size=32, shuffle=True)\n",
        "test_loader = DataLoader(test_dataset, batch_size=32, shuffle=False)\n",
        "\n",
        "# Load the pretrained VGG-16 model\n",
        "model = vgg19(pretrained=True)\n",
        "\n",
        "# Modify the classifier to match your dataset's number of classes\n",
        "num_classes = len(torch.unique(train_labels))  # Adjust based on your dataset\n",
        "model.classifier[6] = nn.Linear(4096, num_classes)\n",
        "\n",
        "# Move the model to GPU if available\n",
        "device = torch.device(\"cuda\" if torch.cuda.is_available() else \"cpu\")\n",
        "model = model.to(device)"
      ],
      "metadata": {
        "id": "1EbRy7pbjpOv"
      },
      "execution_count": 6,
      "outputs": []
    },
    {
      "cell_type": "code",
      "source": [
        "import torch.optim as optim\n",
        "\n",
        "# Define loss function and optimizer\n",
        "criterion = nn.CrossEntropyLoss()\n",
        "optimizer = optim.Adam(model.parameters(), lr=0.0001)"
      ],
      "metadata": {
        "id": "3hC7Emt7mMzm"
      },
      "execution_count": 9,
      "outputs": []
    },
    {
      "cell_type": "code",
      "source": [
        "# Training loop\n",
        "trainingHolder = []\n",
        "testingHolder = []\n",
        "\n",
        "epochs = 40  # Adjust the number of epochs as needed\n",
        "for epoch in range(epochs):\n",
        "  model.train()\n",
        "  running_loss = 0.0\n",
        "  for images, labels in train_loader:\n",
        "      images, labels = images.to(device), labels.to(device)\n",
        "\n",
        "      # Forward pass\n",
        "      outputs = model(images)\n",
        "      loss = criterion(outputs, labels)\n",
        "\n",
        "      # Backward pass and optimization\n",
        "      optimizer.zero_grad()\n",
        "      loss.backward()\n",
        "      optimizer.step()\n",
        "\n",
        "      running_loss += loss.item()\n",
        "\n",
        "    # Evaluation loop\n",
        "  model.eval()\n",
        "  correct = 0\n",
        "  total = 0\n",
        "  with torch.no_grad():\n",
        "      for images, labels in test_loader:\n",
        "          images, labels = images.to(device), labels.to(device)\n",
        "\n",
        "          outputs = model(images)\n",
        "          _, predicted = torch.max(outputs, 1)\n",
        "          total += labels.size(0)\n",
        "          correct += (predicted == labels).sum().item()\n",
        "\n",
        "  testingHolder.append(100 * correct / total)\n",
        "\n",
        "  model.eval()\n",
        "  correct = 0\n",
        "  total = 0\n",
        "  with torch.no_grad():\n",
        "      for images, labels in train_loader:\n",
        "          images, labels = images.to(device), labels.to(device)\n",
        "\n",
        "          outputs = model(images)\n",
        "          _, predicted = torch.max(outputs, 1)\n",
        "          total += labels.size(0)\n",
        "          correct += (predicted == labels).sum().item()\n",
        "\n",
        "  trainingHolder.append(100 * correct / total)\n",
        "\n",
        "  print(f\"Epoch {epoch+1}/{epochs}, Loss: {running_loss/len(train_loader):.4f}\")\n"
      ],
      "metadata": {
        "colab": {
          "base_uri": "https://localhost:8080/",
          "height": 245
        },
        "id": "BpGm5-4omQr3",
        "outputId": "fd5f3705-9fe0-4a39-f4cd-60a5053fccab"
      },
      "execution_count": 10,
      "outputs": [
        {
          "output_type": "stream",
          "name": "stdout",
          "text": [
            "Epoch 1/40, Loss: 2.8403\n",
            "Epoch 2/40, Loss: 1.9817\n"
          ]
        },
        {
          "output_type": "error",
          "ename": "KeyboardInterrupt",
          "evalue": "",
          "traceback": [
            "\u001b[0;31m---------------------------------------------------------------------------\u001b[0m",
            "\u001b[0;31mKeyboardInterrupt\u001b[0m                         Traceback (most recent call last)",
            "\u001b[0;32m<ipython-input-10-e30a22d18886>\u001b[0m in \u001b[0;36m<cell line: 6>\u001b[0;34m()\u001b[0m\n\u001b[1;32m     19\u001b[0m       \u001b[0moptimizer\u001b[0m\u001b[0;34m.\u001b[0m\u001b[0mstep\u001b[0m\u001b[0;34m(\u001b[0m\u001b[0;34m)\u001b[0m\u001b[0;34m\u001b[0m\u001b[0;34m\u001b[0m\u001b[0m\n\u001b[1;32m     20\u001b[0m \u001b[0;34m\u001b[0m\u001b[0m\n\u001b[0;32m---> 21\u001b[0;31m       \u001b[0mrunning_loss\u001b[0m \u001b[0;34m+=\u001b[0m \u001b[0mloss\u001b[0m\u001b[0;34m.\u001b[0m\u001b[0mitem\u001b[0m\u001b[0;34m(\u001b[0m\u001b[0;34m)\u001b[0m\u001b[0;34m\u001b[0m\u001b[0;34m\u001b[0m\u001b[0m\n\u001b[0m\u001b[1;32m     22\u001b[0m \u001b[0;34m\u001b[0m\u001b[0m\n\u001b[1;32m     23\u001b[0m     \u001b[0;31m# Evaluation loop\u001b[0m\u001b[0;34m\u001b[0m\u001b[0;34m\u001b[0m\u001b[0m\n",
            "\u001b[0;31mKeyboardInterrupt\u001b[0m: "
          ]
        }
      ]
    },
    {
      "cell_type": "code",
      "source": [
        "import torch.optim as optim\n",
        "def test():\n",
        "  model = vgg19(pretrained=True)\n",
        "\n",
        "  # Modify the classifier to match your dataset's number of classes\n",
        "  num_classes = len(torch.unique(train_labels))  # Adjust based on your dataset\n",
        "  model.classifier[6] = nn.Linear(4096, num_classes)\n",
        "\n",
        "  # Move the model to GPU if available\n",
        "  device = torch.device(\"cuda\" if torch.cuda.is_available() else \"cpu\")\n",
        "  model = model.to(device)\n",
        "  criterion = nn.CrossEntropyLoss()\n",
        "  optimizer = optim.Adam(model.parameters(), lr=0.0001)\n",
        "  # Training loop\n",
        "  trainingHolder = []\n",
        "  testingHolder = []\n",
        "\n",
        "  epochs = 40  # Adjust the number of epochs as needed\n",
        "  for epoch in range(epochs):\n",
        "    model.train()\n",
        "    running_loss = 0.0\n",
        "    for images, labels in train_loader:\n",
        "        images, labels = images.to(device), labels.to(device)\n",
        "\n",
        "        # Forward pass\n",
        "        outputs = model(images)\n",
        "        loss = criterion(outputs, labels)\n",
        "\n",
        "        # Backward pass and optimization\n",
        "        optimizer.zero_grad()\n",
        "        loss.backward()\n",
        "        optimizer.step()\n",
        "\n",
        "        running_loss += loss.item()\n",
        "\n",
        "      # Evaluation loop\n",
        "    model.eval()\n",
        "    correct = 0\n",
        "    total = 0\n",
        "    with torch.no_grad():\n",
        "        for images, labels in test_loader:\n",
        "            images, labels = images.to(device), labels.to(device)\n",
        "\n",
        "            outputs = model(images)\n",
        "            _, predicted = torch.max(outputs, 1)\n",
        "            total += labels.size(0)\n",
        "            correct += (predicted == labels).sum().item()\n",
        "\n",
        "    testingHolder.append(100 * correct / total)\n",
        "\n",
        "    model.eval()\n",
        "    correct = 0\n",
        "    total = 0\n",
        "    with torch.no_grad():\n",
        "        for images, labels in train_loader:\n",
        "            images, labels = images.to(device), labels.to(device)\n",
        "\n",
        "            outputs = model(images)\n",
        "            _, predicted = torch.max(outputs, 1)\n",
        "            total += labels.size(0)\n",
        "            correct += (predicted == labels).sum().item()\n",
        "\n",
        "    trainingHolder.append(100 * correct / total)\n",
        "\n",
        "    # print(f\"Epoch {epoch+1}/{epochs}, Loss: {running_loss/len(train_loader):.4f}\")\n",
        "\n",
        "  return max(testingHolder)\n"
      ],
      "metadata": {
        "id": "R7_A97OcQEpz"
      },
      "execution_count": 7,
      "outputs": []
    },
    {
      "cell_type": "code",
      "source": [
        "from tqdm import tqdm\n",
        "\n",
        "acc = []\n",
        "for i in tqdm(range(10)):\n",
        "  acc.append(test())"
      ],
      "metadata": {
        "colab": {
          "base_uri": "https://localhost:8080/"
        },
        "id": "zVJrD5L9QW2r",
        "outputId": "4d08eb8a-5b6d-4860-f224-aff3f664554d"
      },
      "execution_count": null,
      "outputs": [
        {
          "output_type": "stream",
          "name": "stderr",
          "text": [
            "\r  0%|          | 0/10 [00:00<?, ?it/s]/usr/local/lib/python3.10/dist-packages/torchvision/models/_utils.py:208: UserWarning: The parameter 'pretrained' is deprecated since 0.13 and may be removed in the future, please use 'weights' instead.\n",
            "  warnings.warn(\n",
            "/usr/local/lib/python3.10/dist-packages/torchvision/models/_utils.py:223: UserWarning: Arguments other than a weight enum or `None` for 'weights' are deprecated since 0.13 and may be removed in the future. The current behavior is equivalent to passing `weights=VGG19_Weights.IMAGENET1K_V1`. You can also use `weights=VGG19_Weights.DEFAULT` to get the most up-to-date weights.\n",
            "  warnings.warn(msg)\n",
            " 10%|█         | 1/10 [14:05<2:06:51, 845.73s/it]"
          ]
        }
      ]
    },
    {
      "cell_type": "code",
      "source": [
        "epochs = range(1, len(trainingHolder) + 1)\n",
        "\n",
        "# Create the plot\n",
        "plt.figure(figsize=(8, 6))\n",
        "plt.plot(epochs, trainingHolder, label='Training Accuracy', marker='o', color='blue')\n",
        "plt.plot(epochs, testingHolder, label='Testing Accuracy', marker='s', color='orange')\n",
        "\n",
        "# Add labels, title, and legend\n",
        "plt.xlabel('Epochs')\n",
        "plt.ylabel('Accuracy')\n",
        "plt.title('Training vs Testing Accuracy')\n",
        "plt.legend()\n",
        "plt.grid(True)\n",
        "\n",
        "# Show the plot\n",
        "plt.show()"
      ],
      "metadata": {
        "colab": {
          "base_uri": "https://localhost:8080/",
          "height": 564
        },
        "id": "Tj6b0PJsmS7W",
        "outputId": "59aeace2-1e54-48a5-ae43-1d88d6570692"
      },
      "execution_count": 9,
      "outputs": [
        {
          "output_type": "display_data",
          "data": {
            "text/plain": [
              "<Figure size 800x600 with 1 Axes>"
            ],
            "image/png": "[encoded data removed]"
          },
          "metadata": {}
        }
      ]
    },
    {
      "cell_type": "code",
      "source": [
        "testingHolder"
      ],
      "metadata": {
        "colab": {
          "base_uri": "https://localhost:8080/"
        },
        "id": "N3rJ55-TrMRg",
        "outputId": "3c1a990c-4942-4c93-e51a-54fd304cc523"
      },
      "execution_count": 10,
      "outputs": [
        {
          "output_type": "execute_result",
          "data": {
            "text/plain": [
              "[17.708333333333332,\n",
              " 26.041666666666668,\n",
              " 31.510416666666668,\n",
              " 30.46875,\n",
              " 32.03125,\n",
              " 39.322916666666664,\n",
              " 36.979166666666664,\n",
              " 38.020833333333336,\n",
              " 39.583333333333336,\n",
              " 40.364583333333336,\n",
              " 39.0625,\n",
              " 44.010416666666664,\n",
              " 41.145833333333336,\n",
              " 39.322916666666664,\n",
              " 41.145833333333336,\n",
              " 39.84375,\n",
              " 42.708333333333336,\n",
              " 43.75,\n",
              " 41.40625,\n",
              " 44.270833333333336,\n",
              " 47.65625,\n",
              " 47.916666666666664,\n",
              " 39.583333333333336,\n",
              " 45.572916666666664,\n",
              " 44.791666666666664,\n",
              " 44.270833333333336,\n",
              " 45.052083333333336,\n",
              " 44.010416666666664,\n",
              " 44.010416666666664,\n",
              " 44.010416666666664,\n",
              " 48.4375,\n",
              " 44.53125,\n",
              " 46.875,\n",
              " 47.135416666666664,\n",
              " 46.354166666666664,\n",
              " 43.489583333333336,\n",
              " 46.614583333333336,\n",
              " 44.010416666666664,\n",
              " 46.09375,\n",
              " 46.614583333333336]"
            ]
          },
          "metadata": {},
          "execution_count": 10
        }
      ]
    },
    {
      "cell_type": "code",
      "source": [
        "max(testingHolder)"
      ],
      "metadata": {
        "colab": {
          "base_uri": "https://localhost:8080/"
        },
        "id": "bxBpoobVrRve",
        "outputId": "a0fddce2-adc6-4bae-d164-12207cda4282"
      },
      "execution_count": 11,
      "outputs": [
        {
          "output_type": "execute_result",
          "data": {
            "text/plain": [
              "48.4375"
            ]
          },
          "metadata": {},
          "execution_count": 11
        }
      ]
    },
    {
      "cell_type": "code",
      "source": [],
      "metadata": {
        "id": "-1vBpsWt3jZe"
      },
      "execution_count": 11,
      "outputs": []
    }
  ]
}