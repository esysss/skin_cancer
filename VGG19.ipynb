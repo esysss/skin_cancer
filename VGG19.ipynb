{
  "nbformat": 4,
  "nbformat_minor": 0,
  "metadata": {
    "colab": {
      "provenance": [],
      "machine_shape": "hm",
      "gpuType": "T4"
    },
    "kernelspec": {
      "name": "python3",
      "display_name": "Python 3"
    },
    "language_info": {
      "name": "python"
    },
    "accelerator": "GPU"
  },
  "cells": [
    {
      "cell_type": "code",
      "execution_count": null,
      "metadata": {
        "id": "t3Lfqhf7ZrO2"
      },
      "outputs": [],
      "source": [
        "import numpy as np\n",
        "import pandas as pd\n",
        "import matplotlib.pyplot as plt\n",
        "import torch\n",
        "import torch.nn as nn\n",
        "import torch.nn.functional as F\n",
        "from torch.utils.data import DataLoader, TensorDataset\n",
        "from sklearn.model_selection import train_test_split"
      ]
    },
    {
      "cell_type": "code",
      "source": [
        "train_data = pd.read_pickle('/content/drive/MyDrive/choosen/train.pkl')\n",
        "test_data = pd.read_pickle('/content/drive/MyDrive/choosen/test.pkl')"
      ],
      "metadata": {
        "id": "X9QjY4QAchx4"
      },
      "execution_count": null,
      "outputs": []
    },
    {
      "cell_type": "code",
      "source": [
        "import cv2\n",
        "import os\n",
        "import pandas as pd\n",
        "from tqdm import tqdm\n",
        "\n",
        "# Assuming `balanced_df` contains the image names in the 'image' column\n",
        "imgsTrainin = []\n",
        "# Output directory for resized images\n",
        "\n",
        "# Loop through the image names in balanced_df and process them\n",
        "for image_name in tqdm(train_data['image']):\n",
        "    # Construct the full image file path\n",
        "    image_path = os.path.join(\"/content/drive/MyDrive/choosen/\" + image_name + \".jpg\")  # Adjust extension if needed\n",
        "\n",
        "    # Read the image using OpenCV\n",
        "    image = cv2.imread(image_path)\n",
        "\n",
        "    if image is None:\n",
        "        print(f\"Image {image_name} not found or could not be read.\")\n",
        "        continue\n",
        "\n",
        "    # Resize the image to 500x500\n",
        "    resized_image = cv2.resize(image, (224, 224))\n",
        "    imgsTrainin.append(resized_image)\n",
        "\n",
        "    # Save the resized image to the output directory\n",
        "    # output_path = os.path.join(output_directory, image_name + \"_resized.jpg\")\n",
        "    # cv2.imwrite(output_path, resized_image)\n",
        "\n",
        "# Assuming `balanced_df` contains the image names in the 'image' column\n",
        "imgsTesting = []\n",
        "# Output directory for resized images\n",
        "\n",
        "# Loop through the image names in balanced_df and process them\n",
        "for image_name in tqdm(test_data['image']):\n",
        "    # Construct the full image file path\n",
        "    image_path = os.path.join(\"/content/drive/MyDrive/choosen/\" + image_name + \".jpg\")  # Adjust extension if needed\n",
        "\n",
        "    # Read the image using OpenCV\n",
        "    image = cv2.imread(image_path)\n",
        "\n",
        "    if image is None:\n",
        "        print(f\"Image {image_name} not found or could not be read.\")\n",
        "        continue\n",
        "\n",
        "    # Resize the image to 500x500\n",
        "    resized_image = cv2.resize(image, (224, 224))\n",
        "    imgsTesting.append(resized_image)\n",
        "\n",
        "    # Save the resized image to the output directory\n",
        "    # output_path = os.path.join(output_directory, image_name + \"_resized.jpg\")\n",
        "    # cv2.imwrite(output_path, resized_image)\n",
        "\n",
        "print(\"Image resizing completed.\")"
      ],
      "metadata": {
        "colab": {
          "base_uri": "https://localhost:8080/"
        },
        "id": "F7Jpom6IcmWu",
        "outputId": "c8d95717-b27b-45de-d024-daa5cf894607"
      },
      "execution_count": null,
      "outputs": [
        {
          "output_type": "stream",
          "name": "stderr",
          "text": [
            "100%|██████████| 1528/1528 [00:19<00:00, 78.89it/s]\n",
            "100%|██████████| 384/384 [00:04<00:00, 78.26it/s]"
          ]
        },
        {
          "output_type": "stream",
          "name": "stdout",
          "text": [
            "Image resizing completed.\n"
          ]
        },
        {
          "output_type": "stream",
          "name": "stderr",
          "text": [
            "\n"
          ]
        }
      ]
    },
    {
      "cell_type": "code",
      "source": [
        "labels_one_hot = train_data.iloc[:, 1:].values\n",
        "labelstrain = [list(row).index(1.0) for row in labels_one_hot]\n",
        "labels_one_hot = test_data.iloc[:, 1:].values\n",
        "labelstest = [list(row).index(1.0) for row in labels_one_hot]\n",
        "\n",
        "stacked_array = np.stack(labelstrain)  # Shape: (num_samples, 3, 500, 500)\n",
        "torch_labels_train = torch.from_numpy(stacked_array)\n",
        "\n",
        "stacked_array = np.stack(labelstest)  # Shape: (num_samples, 3, 500, 500)\n",
        "torch_labels_test = torch.from_numpy(stacked_array)\n",
        "\n",
        "stacked_array = np.stack(imgsTrainin)  # Shape: (num_samples, 3, 500, 500)\n",
        "torch_images_train = torch.from_numpy(stacked_array).float()  # Ensure it's a float tensor\n",
        "\n",
        "stacked_array = np.stack(imgsTesting)  # Shape: (num_samples, 3, 500, 500)\n",
        "torch_images_test = torch.from_numpy(stacked_array).float()  # Ensure it's a float tensor"
      ],
      "metadata": {
        "id": "F6WLgBMOcowe"
      },
      "execution_count": null,
      "outputs": []
    },
    {
      "cell_type": "code",
      "source": [
        "# Example data (replace with your actual tensors)\n",
        "train_images = torch_images_train.permute(0, 3, 1, 2)\n",
        "test_images = torch_images_test.permute(0, 3, 1, 2)\n",
        "train_labels = torch_labels_train\n",
        "test_labels = torch_labels_test\n",
        "\n",
        "# Wrap into TensorDataset\n",
        "train_dataset = TensorDataset(train_images, train_labels)\n",
        "test_dataset = TensorDataset(test_images, test_labels)\n",
        "\n",
        "# DataLoader\n",
        "train_loader = DataLoader(train_dataset, batch_size=32, shuffle=True)\n",
        "test_loader = DataLoader(test_dataset, batch_size=32, shuffle=False)"
      ],
      "metadata": {
        "id": "TL7l1SvYjmaf"
      },
      "execution_count": null,
      "outputs": []
    },
    {
      "cell_type": "code",
      "source": [
        "from torchvision.models import vgg19\n",
        "import torch.nn as nn\n",
        "from torchvision.transforms import Normalize\n",
        "\n",
        "# Normalize the dataset using ImageNet's mean and standard deviation\n",
        "imagenet_normalize = Normalize(mean=[0.485, 0.456, 0.406], std=[0.229, 0.224, 0.225])\n",
        "train_images = imagenet_normalize(train_images)\n",
        "test_images = imagenet_normalize(test_images)\n",
        "\n",
        "# Create TensorDatasets\n",
        "train_dataset = TensorDataset(train_images, train_labels)\n",
        "test_dataset = TensorDataset(test_images, test_labels)\n",
        "\n",
        "# Create DataLoaders\n",
        "train_loader = DataLoader(train_dataset, batch_size=32, shuffle=True)\n",
        "test_loader = DataLoader(test_dataset, batch_size=32, shuffle=False)\n",
        "\n",
        "# Load the pretrained VGG-16 model\n",
        "model = vgg19(pretrained=True)\n",
        "\n",
        "# Modify the classifier to match your dataset's number of classes\n",
        "num_classes = len(torch.unique(train_labels))  # Adjust based on your dataset\n",
        "model.classifier[6] = nn.Linear(4096, num_classes)\n",
        "\n",
        "# Move the model to GPU if available\n",
        "device = torch.device(\"cuda\" if torch.cuda.is_available() else \"cpu\")\n",
        "model = model.to(device)"
      ],
      "metadata": {
        "colab": {
          "base_uri": "https://localhost:8080/"
        },
        "id": "1EbRy7pbjpOv",
        "outputId": "7b52c015-f98e-41e7-9a26-53f787ef752e"
      },
      "execution_count": null,
      "outputs": [
        {
          "output_type": "stream",
          "name": "stderr",
          "text": [
            "/usr/local/lib/python3.10/dist-packages/torchvision/models/_utils.py:208: UserWarning: The parameter 'pretrained' is deprecated since 0.13 and may be removed in the future, please use 'weights' instead.\n",
            "  warnings.warn(\n",
            "/usr/local/lib/python3.10/dist-packages/torchvision/models/_utils.py:223: UserWarning: Arguments other than a weight enum or `None` for 'weights' are deprecated since 0.13 and may be removed in the future. The current behavior is equivalent to passing `weights=VGG19_Weights.IMAGENET1K_V1`. You can also use `weights=VGG19_Weights.DEFAULT` to get the most up-to-date weights.\n",
            "  warnings.warn(msg)\n"
          ]
        }
      ]
    },
    {
      "cell_type": "code",
      "source": [
        "import torch.optim as optim\n",
        "\n",
        "# Define loss function and optimizer\n",
        "criterion = nn.CrossEntropyLoss()\n",
        "optimizer = optim.Adam(model.parameters(), lr=0.0001)"
      ],
      "metadata": {
        "id": "3hC7Emt7mMzm"
      },
      "execution_count": null,
      "outputs": []
    },
    {
      "cell_type": "code",
      "source": [
        "# Training loop\n",
        "trainingHolder = []\n",
        "testingHolder = []\n",
        "\n",
        "epochs = 40  # Adjust the number of epochs as needed\n",
        "for epoch in range(epochs):\n",
        "  model.train()\n",
        "  running_loss = 0.0\n",
        "  for images, labels in train_loader:\n",
        "      images, labels = images.to(device), labels.to(device)\n",
        "\n",
        "      # Forward pass\n",
        "      outputs = model(images)\n",
        "      loss = criterion(outputs, labels)\n",
        "\n",
        "      # Backward pass and optimization\n",
        "      optimizer.zero_grad()\n",
        "      loss.backward()\n",
        "      optimizer.step()\n",
        "\n",
        "      running_loss += loss.item()\n",
        "\n",
        "    # Evaluation loop\n",
        "  model.eval()\n",
        "  correct = 0\n",
        "  total = 0\n",
        "  with torch.no_grad():\n",
        "      for images, labels in test_loader:\n",
        "          images, labels = images.to(device), labels.to(device)\n",
        "\n",
        "          outputs = model(images)\n",
        "          _, predicted = torch.max(outputs, 1)\n",
        "          total += labels.size(0)\n",
        "          correct += (predicted == labels).sum().item()\n",
        "\n",
        "  testingHolder.append(100 * correct / total)\n",
        "\n",
        "  model.eval()\n",
        "  correct = 0\n",
        "  total = 0\n",
        "  with torch.no_grad():\n",
        "      for images, labels in train_loader:\n",
        "          images, labels = images.to(device), labels.to(device)\n",
        "\n",
        "          outputs = model(images)\n",
        "          _, predicted = torch.max(outputs, 1)\n",
        "          total += labels.size(0)\n",
        "          correct += (predicted == labels).sum().item()\n",
        "\n",
        "  trainingHolder.append(100 * correct / total)\n",
        "\n",
        "  print(f\"Epoch {epoch+1}/{epochs}, Loss: {running_loss/len(train_loader):.4f}\")\n"
      ],
      "metadata": {
        "colab": {
          "base_uri": "https://localhost:8080/"
        },
        "id": "BpGm5-4omQr3",
        "outputId": "ff8f7ef6-de05-4e0c-d17f-169dfc6e21aa"
      },
      "execution_count": null,
      "outputs": [
        {
          "output_type": "stream",
          "name": "stdout",
          "text": [
            "Epoch 1/40, Loss: 2.7779\n",
            "Epoch 2/40, Loss: 1.9678\n",
            "Epoch 3/40, Loss: 1.8738\n",
            "Epoch 4/40, Loss: 1.7449\n",
            "Epoch 5/40, Loss: 1.6691\n",
            "Epoch 6/40, Loss: 1.5656\n",
            "Epoch 7/40, Loss: 1.4557\n",
            "Epoch 8/40, Loss: 1.4244\n",
            "Epoch 9/40, Loss: 1.3058\n",
            "Epoch 10/40, Loss: 1.2355\n",
            "Epoch 11/40, Loss: 1.1226\n",
            "Epoch 12/40, Loss: 1.1013\n",
            "Epoch 13/40, Loss: 1.1226\n",
            "Epoch 14/40, Loss: 0.9879\n",
            "Epoch 15/40, Loss: 0.9015\n",
            "Epoch 16/40, Loss: 0.7468\n",
            "Epoch 17/40, Loss: 0.6055\n",
            "Epoch 18/40, Loss: 0.5783\n",
            "Epoch 19/40, Loss: 0.6355\n",
            "Epoch 20/40, Loss: 0.6853\n",
            "Epoch 21/40, Loss: 0.4113\n",
            "Epoch 22/40, Loss: 0.3169\n",
            "Epoch 23/40, Loss: 0.5711\n",
            "Epoch 24/40, Loss: 0.4092\n",
            "Epoch 25/40, Loss: 0.4691\n",
            "Epoch 26/40, Loss: 0.2459\n",
            "Epoch 27/40, Loss: 0.2665\n",
            "Epoch 28/40, Loss: 0.1703\n",
            "Epoch 29/40, Loss: 0.1689\n",
            "Epoch 30/40, Loss: 0.1582\n",
            "Epoch 31/40, Loss: 0.1398\n",
            "Epoch 32/40, Loss: 0.2271\n",
            "Epoch 33/40, Loss: 0.2124\n",
            "Epoch 34/40, Loss: 0.2363\n",
            "Epoch 35/40, Loss: 0.2045\n",
            "Epoch 36/40, Loss: 0.1497\n",
            "Epoch 37/40, Loss: 0.1771\n",
            "Epoch 38/40, Loss: 0.2338\n",
            "Epoch 39/40, Loss: 0.1193\n",
            "Epoch 40/40, Loss: 0.0804\n"
          ]
        }
      ]
    },
    {
      "cell_type": "code",
      "source": [
        "epochs = range(1, len(trainingHolder) + 1)\n",
        "\n",
        "# Create the plot\n",
        "plt.figure(figsize=(8, 6))\n",
        "plt.plot(epochs, trainingHolder, label='Training Accuracy', marker='o', color='blue')\n",
        "plt.plot(epochs, testingHolder, label='Testing Accuracy', marker='s', color='orange')\n",
        "\n",
        "# Add labels, title, and legend\n",
        "plt.xlabel('Epochs')\n",
        "plt.ylabel('Accuracy')\n",
        "plt.title('Training vs Testing Accuracy')\n",
        "plt.legend()\n",
        "plt.grid(True)\n",
        "\n",
        "# Show the plot\n",
        "plt.show()"
      ],
      "metadata": {
        "colab": {
          "base_uri": "https://localhost:8080/",
          "height": 564
        },
        "id": "Tj6b0PJsmS7W",
        "outputId": "f16154cc-cb21-49f2-dc89-5c72484f210d"
      },
      "execution_count": null,
      "outputs": [
        {
          "output_type": "display_data",
          "data": {
            "text/plain": [
              "<Figure size 800x600 with 1 Axes>"
            ],
            "image/png": "[encoded data removed]"
          },
          "metadata": {}
        }
      ]
    },
    {
      "cell_type": "code",
      "source": [
        "testingHolder"
      ],
      "metadata": {
        "colab": {
          "base_uri": "https://localhost:8080/"
        },
        "id": "N3rJ55-TrMRg",
        "outputId": "01d04df9-9edc-4909-9075-38f81cdc2103"
      },
      "execution_count": null,
      "outputs": [
        {
          "output_type": "execute_result",
          "data": {
            "text/plain": [
              "[22.65625,\n",
              " 32.8125,\n",
              " 30.989583333333332,\n",
              " 32.8125,\n",
              " 38.28125,\n",
              " 38.541666666666664,\n",
              " 30.989583333333332,\n",
              " 39.84375,\n",
              " 43.229166666666664,\n",
              " 45.833333333333336,\n",
              " 41.666666666666664,\n",
              " 39.322916666666664,\n",
              " 43.229166666666664,\n",
              " 44.791666666666664,\n",
              " 49.479166666666664,\n",
              " 47.395833333333336,\n",
              " 42.1875,\n",
              " 40.885416666666664,\n",
              " 39.84375,\n",
              " 45.572916666666664,\n",
              " 45.833333333333336,\n",
              " 46.875,\n",
              " 45.052083333333336,\n",
              " 43.229166666666664,\n",
              " 47.135416666666664,\n",
              " 47.135416666666664,\n",
              " 46.875,\n",
              " 49.479166666666664,\n",
              " 44.270833333333336,\n",
              " 46.875,\n",
              " 46.875,\n",
              " 49.739583333333336,\n",
              " 41.145833333333336,\n",
              " 45.572916666666664,\n",
              " 48.177083333333336,\n",
              " 47.395833333333336,\n",
              " 39.322916666666664,\n",
              " 48.4375,\n",
              " 47.65625,\n",
              " 45.833333333333336]"
            ]
          },
          "metadata": {},
          "execution_count": 10
        }
      ]
    },
    {
      "cell_type": "code",
      "source": [
        "max(testingHolder)"
      ],
      "metadata": {
        "colab": {
          "base_uri": "https://localhost:8080/"
        },
        "id": "bxBpoobVrRve",
        "outputId": "85b950a8-0839-4793-8fae-f27cecdb8c4a"
      },
      "execution_count": null,
      "outputs": [
        {
          "output_type": "execute_result",
          "data": {
            "text/plain": [
              "49.739583333333336"
            ]
          },
          "metadata": {},
          "execution_count": 11
        }
      ]
    },
    {
      "cell_type": "code",
      "source": [],
      "metadata": {
        "id": "-1vBpsWt3jZe"
      },
      "execution_count": null,
      "outputs": []
    }
  ]
}