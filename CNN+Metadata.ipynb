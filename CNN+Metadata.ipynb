{
  "nbformat": 4,
  "nbformat_minor": 0,
  "metadata": {
    "colab": {
      "provenance": [],
      "gpuType": "T4"
    },
    "kernelspec": {
      "name": "python3",
      "display_name": "Python 3"
    },
    "language_info": {
      "name": "python"
    },
    "accelerator": "GPU"
  },
  "cells": [
    {
      "cell_type": "code",
      "execution_count": 1,
      "metadata": {
        "id": "FkJFGKapwMJy"
      },
      "outputs": [],
      "source": [
        "import numpy as np\n",
        "import pandas as pd\n",
        "import matplotlib.pyplot as plt\n",
        "from sklearn.model_selection import train_test_split\n",
        "from torch.utils.data import DataLoader, TensorDataset\n",
        "import torch\n",
        "from sklearn.preprocessing import StandardScaler"
      ]
    },
    {
      "cell_type": "code",
      "source": [
        "train_data = pd.read_pickle('/content/drive/MyDrive/choosen/train.pkl')\n",
        "test_data = pd.read_pickle('/content/drive/MyDrive/choosen/test.pkl')"
      ],
      "metadata": {
        "id": "XMYsXumnwX5G"
      },
      "execution_count": 2,
      "outputs": []
    },
    {
      "cell_type": "code",
      "source": [
        "train_metadata = pd.read_csv(\"/content/drive/MyDrive/choosen/train_metadata.csv\")\n",
        "test_metadata = pd.read_csv(\"/content/drive/MyDrive/choosen/test_metadata.csv\")"
      ],
      "metadata": {
        "id": "PbUHaPINwbIF"
      },
      "execution_count": 3,
      "outputs": []
    },
    {
      "cell_type": "code",
      "source": [
        "import cv2\n",
        "import os\n",
        "import pandas as pd\n",
        "from tqdm import tqdm\n",
        "\n",
        "# Assuming `balanced_df` contains the image names in the 'image' column\n",
        "imgsTrainin = []\n",
        "# Output directory for resized images\n",
        "\n",
        "# Loop through the image names in balanced_df and process them\n",
        "for image_name in tqdm(train_data['image']):\n",
        "    # Construct the full image file path\n",
        "    image_path = os.path.join(\"/content/drive/MyDrive/choosen/\" + image_name + \".jpg\")  # Adjust extension if needed\n",
        "\n",
        "    # Read the image using OpenCV\n",
        "    image = cv2.imread(image_path)\n",
        "\n",
        "    if image is None:\n",
        "        print(f\"Image {image_name} not found or could not be read.\")\n",
        "        continue\n",
        "\n",
        "    # Resize the image to 500x500\n",
        "    resized_image = cv2.resize(image, (224, 224))\n",
        "    imgsTrainin.append(resized_image)\n",
        "\n",
        "    # Save the resized image to the output directory\n",
        "    # output_path = os.path.join(output_directory, image_name + \"_resized.jpg\")\n",
        "    # cv2.imwrite(output_path, resized_image)\n",
        "\n",
        "# Assuming `balanced_df` contains the image names in the 'image' column\n",
        "imgsTesting = []\n",
        "# Output directory for resized images\n",
        "\n",
        "# Loop through the image names in balanced_df and process them\n",
        "for image_name in tqdm(test_data['image']):\n",
        "    # Construct the full image file path\n",
        "    image_path = os.path.join(\"/content/drive/MyDrive/choosen/\" + image_name + \".jpg\")  # Adjust extension if needed\n",
        "\n",
        "    # Read the image using OpenCV\n",
        "    image = cv2.imread(image_path)\n",
        "\n",
        "    if image is None:\n",
        "        print(f\"Image {image_name} not found or could not be read.\")\n",
        "        continue\n",
        "\n",
        "    # Resize the image to 500x500\n",
        "    resized_image = cv2.resize(image, (224, 224))\n",
        "    imgsTesting.append(resized_image)\n",
        "\n",
        "    # Save the resized image to the output directory\n",
        "    # output_path = os.path.join(output_directory, image_name + \"_resized.jpg\")\n",
        "    # cv2.imwrite(output_path, resized_image)\n",
        "\n",
        "print(\"Image resizing completed.\")"
      ],
      "metadata": {
        "colab": {
          "base_uri": "https://localhost:8080/"
        },
        "id": "ihDFyHb35Zs1",
        "outputId": "ced1e7c7-d183-4511-c324-a501a6091fbb"
      },
      "execution_count": 4,
      "outputs": [
        {
          "output_type": "stream",
          "name": "stderr",
          "text": [
            "100%|██████████| 1528/1528 [23:34<00:00,  1.08it/s]\n",
            "100%|██████████| 384/384 [06:24<00:00,  1.00s/it]"
          ]
        },
        {
          "output_type": "stream",
          "name": "stdout",
          "text": [
            "Image resizing completed.\n"
          ]
        },
        {
          "output_type": "stream",
          "name": "stderr",
          "text": [
            "\n"
          ]
        }
      ]
    },
    {
      "cell_type": "code",
      "source": [
        "labels_one_hot = train_data.iloc[:, 1:].values\n",
        "labelstrain = [list(row).index(1.0) for row in labels_one_hot]\n",
        "labels_one_hot = test_data.iloc[:, 1:].values\n",
        "labelstest = [list(row).index(1.0) for row in labels_one_hot]\n",
        "\n",
        "stacked_array = np.stack(labelstrain)  # Shape: (num_samples, 3, 500, 500)\n",
        "torch_labels_train = torch.from_numpy(stacked_array)\n",
        "\n",
        "stacked_array = np.stack(labelstest)  # Shape: (num_samples, 3, 500, 500)\n",
        "torch_labels_test = torch.from_numpy(stacked_array)\n",
        "\n",
        "stacked_array = np.stack(imgsTrainin)  # Shape: (num_samples, 3, 500, 500)\n",
        "torch_images_train = torch.from_numpy(stacked_array).float()  # Ensure it's a float tensor\n",
        "\n",
        "stacked_array = np.stack(imgsTesting)  # Shape: (num_samples, 3, 500, 500)\n",
        "torch_images_test = torch.from_numpy(stacked_array).float()  # Ensure it's a float tensor\n",
        "\n",
        "# Example data (replace with your actual tensors)\n",
        "train_images = torch_images_train.permute(0, 3, 1, 2)\n",
        "test_images = torch_images_test.permute(0, 3, 1, 2)\n",
        "train_labels = torch_labels_train\n",
        "test_labels = torch_labels_test\n",
        "\n",
        "# Wrap into TensorDataset\n",
        "train_dataset = TensorDataset(train_images, train_labels)\n",
        "test_dataset = TensorDataset(test_images, test_labels)\n",
        "\n",
        "# DataLoader\n",
        "train_loader = DataLoader(train_dataset, batch_size=32, shuffle=True)\n",
        "test_loader = DataLoader(test_dataset, batch_size=32, shuffle=False)\n",
        "\n",
        "device = torch.device(\"cuda\" if torch.cuda.is_available() else \"cpu\")"
      ],
      "metadata": {
        "id": "8mTv_9ysCdbu"
      },
      "execution_count": 5,
      "outputs": []
    },
    {
      "cell_type": "code",
      "source": [
        "X_train = train_metadata.drop(columns=['image'])  # Remove 'image' column if not used for training\n",
        "y_train = np.array(labelstrain)  # Assuming this is a list or array of labels\n",
        "\n",
        "X_test = test_metadata.drop(columns=['image'])  # Remove 'image' column if not used for training\n",
        "y_test = np.array(labelstest)  # Assuming this is a list or array of labels\n",
        "\n",
        "# Normalize/Standardize the data (especially for age and anatomical site)\n",
        "scaler = StandardScaler()\n",
        "X_scaled_train = scaler.fit_transform(X_train)\n",
        "\n",
        "scaler = StandardScaler()\n",
        "X_scaled_test = scaler.fit_transform(X_test)"
      ],
      "metadata": {
        "id": "EFwak6vPYKWm"
      },
      "execution_count": 6,
      "outputs": []
    },
    {
      "cell_type": "code",
      "source": [
        "import torch\n",
        "import torch.nn as nn\n",
        "import torch.optim as optim\n",
        "import torch.nn.functional as F\n",
        "from torch.utils.data import DataLoader, TensorDataset\n",
        "import numpy as np\n",
        "\n",
        "# 1. Prepare the dataset combining images and metadata\n",
        "\n",
        "# Assuming X_scaled_train and X_scaled_test are metadata (scaled),\n",
        "# and train_images and test_images are your image tensors.\n",
        "\n",
        "# Load metadata\n",
        "X_train = torch.tensor(X_scaled_train, dtype=torch.float32)\n",
        "X_val = torch.tensor(X_scaled_test, dtype=torch.float32)\n",
        "y_train = torch.tensor(y_train, dtype=torch.long)\n",
        "y_val = torch.tensor(y_test, dtype=torch.long)\n",
        "\n",
        "# Combine image data and metadata into one dataset\n",
        "class CombinedDataset(torch.utils.data.Dataset):\n",
        "    def __init__(self, images, metadata, labels):\n",
        "        self.images = images\n",
        "        self.metadata = metadata\n",
        "        self.labels = labels\n",
        "\n",
        "    def __len__(self):\n",
        "        return len(self.images)\n",
        "\n",
        "    def __getitem__(self, idx):\n",
        "        image = self.images[idx]\n",
        "        meta = self.metadata[idx]\n",
        "        label = self.labels[idx]\n",
        "        return image, meta, label\n",
        "\n",
        "train_dataset = CombinedDataset(train_images, X_train, y_train)\n",
        "test_dataset = CombinedDataset(test_images, X_val, y_val)\n",
        "\n",
        "train_loader = DataLoader(train_dataset, batch_size=32, shuffle=True)\n",
        "test_loader = DataLoader(test_dataset, batch_size=32, shuffle=False)\n",
        "\n",
        "# 2. Define the hybrid model (CNN + FC)\n",
        "\n",
        "class HybridCNNFCModel(nn.Module):\n",
        "    def __init__(self, num_classes=8, metadata_dim=3, image_height=224, image_width=224):\n",
        "        super(HybridCNNFCModel, self).__init__()\n",
        "\n",
        "        # CNN layers for image feature extraction\n",
        "        self.conv1 = nn.Conv2d(3, 32, kernel_size=3, stride=1, padding=1)\n",
        "        self.conv2 = nn.Conv2d(32, 64, kernel_size=3, stride=1, padding=1)\n",
        "        self.conv3 = nn.Conv2d(64, 128, kernel_size=3, stride=1, padding=1)\n",
        "        self.pool = nn.MaxPool2d(kernel_size=2, stride=2)\n",
        "\n",
        "        # Compute the size of the feature map after passing through CNN layers\n",
        "        with torch.no_grad():\n",
        "            dummy_input = torch.zeros(1, 3, image_height, image_width)\n",
        "            cnn_output = self._cnn_forward(dummy_input)\n",
        "            flattened_size = cnn_output.view(1, -1).size(1)  # Flatten the output\n",
        "\n",
        "        # Fully connected layers for classification\n",
        "        self.fc1 = nn.Linear(flattened_size + metadata_dim, 128)  # Input is CNN output + metadata\n",
        "        self.fc2 = nn.Linear(128, 64)\n",
        "        self.fc3 = nn.Linear(64, num_classes)\n",
        "        self.relu = nn.ReLU()\n",
        "\n",
        "    def _cnn_forward(self, x):\n",
        "        x = F.relu(self.conv1(x))\n",
        "        x = self.pool(F.relu(self.conv2(x)))\n",
        "        x = self.pool(F.relu(self.conv3(x)))\n",
        "        x = x.view(x.size(0), -1)  # Flatten the output\n",
        "        return x\n",
        "\n",
        "    def forward(self, image, metadata):\n",
        "        # CNN part for image feature extraction\n",
        "        x = self._cnn_forward(image)\n",
        "\n",
        "        # Concatenate CNN features with metadata\n",
        "        x = torch.cat((x, metadata), dim=1)\n",
        "\n",
        "        # Fully connected layers for classification\n",
        "        x = self.relu(self.fc1(x))\n",
        "        x = self.relu(self.fc2(x))\n",
        "        x = self.fc3(x)  # Output layer without softmax\n",
        "        return x  # No softmax here, as CrossEntropyLoss handles it internally\n",
        "\n",
        "\n",
        "\n",
        "# 3. Initialize the model, loss function, and optimizer\n",
        "\n",
        "device = torch.device('cuda' if torch.cuda.is_available() else 'cpu')\n",
        "model = HybridCNNFCModel(num_classes=8, metadata_dim=X_train.shape[1]).to(device)\n",
        "\n",
        "criterion = nn.CrossEntropyLoss()\n",
        "optimizer = optim.Adam(model.parameters(), lr=0.0001)\n",
        "\n",
        "# 4. Training and testing loop\n",
        "\n",
        "num_epochs = 40\n",
        "trainingHolder = []\n",
        "testingHolder = []\n",
        "\n",
        "for epoch in range(num_epochs):\n",
        "    model.train()\n",
        "    running_loss = 0.0\n",
        "    correct_preds = 0\n",
        "    total_preds = 0\n",
        "\n",
        "    for images, metadata, labels in train_loader:\n",
        "        images, metadata, labels = images.to(device), metadata.to(device), labels.to(device)\n",
        "\n",
        "        # Forward pass\n",
        "        outputs = model(images, metadata)\n",
        "        loss = criterion(outputs, labels)\n",
        "\n",
        "        # Backward pass and optimization\n",
        "        optimizer.zero_grad()\n",
        "        loss.backward()\n",
        "        optimizer.step()\n",
        "\n",
        "        running_loss += loss.item()\n",
        "        _, predicted = torch.max(outputs, 1)\n",
        "        correct_preds += (predicted == labels).sum().item()\n",
        "        total_preds += labels.size(0)\n",
        "\n",
        "    avg_loss = running_loss / len(train_loader)\n",
        "    accuracy = (correct_preds / total_preds) * 100\n",
        "    trainingHolder.append(accuracy)\n",
        "\n",
        "    # Validation loop\n",
        "    model.eval()\n",
        "    correct_preds = 0\n",
        "    total_preds = 0\n",
        "    with torch.no_grad():\n",
        "        for images, metadata, labels in test_loader:\n",
        "            images, metadata, labels = images.to(device), metadata.to(device), labels.to(device)\n",
        "            outputs = model(images, metadata)\n",
        "            _, predicted = torch.max(outputs, 1)\n",
        "            correct_preds += (predicted == labels).sum().item()\n",
        "            total_preds += labels.size(0)\n",
        "\n",
        "    accuracy = (correct_preds / total_preds) * 100\n",
        "    testingHolder.append(accuracy)\n",
        "\n",
        "    print(f\"Epoch [{epoch+1}/{num_epochs}], Loss: {avg_loss:.4f}, Training Accuracy: {accuracy:.2f}%\")\n",
        "\n"
      ],
      "metadata": {
        "id": "cKZBt3ko6C9m",
        "colab": {
          "base_uri": "https://localhost:8080/"
        },
        "outputId": "0026d4b8-4d96-4e45-e117-988bcbc23057"
      },
      "execution_count": 7,
      "outputs": [
        {
          "output_type": "stream",
          "name": "stdout",
          "text": [
            "Epoch [1/40], Loss: 8.0650, Training Accuracy: 22.92%\n",
            "Epoch [2/40], Loss: 1.8703, Training Accuracy: 30.73%\n",
            "Epoch [3/40], Loss: 1.7318, Training Accuracy: 31.25%\n",
            "Epoch [4/40], Loss: 1.5871, Training Accuracy: 28.39%\n",
            "Epoch [5/40], Loss: 1.4132, Training Accuracy: 34.64%\n",
            "Epoch [6/40], Loss: 1.2109, Training Accuracy: 35.68%\n",
            "Epoch [7/40], Loss: 0.9971, Training Accuracy: 35.42%\n",
            "Epoch [8/40], Loss: 0.8559, Training Accuracy: 39.06%\n",
            "Epoch [9/40], Loss: 0.7205, Training Accuracy: 37.24%\n",
            "Epoch [10/40], Loss: 0.6616, Training Accuracy: 34.64%\n",
            "Epoch [11/40], Loss: 0.5261, Training Accuracy: 31.77%\n",
            "Epoch [12/40], Loss: 0.4068, Training Accuracy: 38.28%\n",
            "Epoch [13/40], Loss: 0.3127, Training Accuracy: 36.98%\n",
            "Epoch [14/40], Loss: 0.3026, Training Accuracy: 37.50%\n",
            "Epoch [15/40], Loss: 0.2451, Training Accuracy: 36.46%\n",
            "Epoch [16/40], Loss: 0.1867, Training Accuracy: 38.02%\n",
            "Epoch [17/40], Loss: 0.1533, Training Accuracy: 35.16%\n",
            "Epoch [18/40], Loss: 0.1555, Training Accuracy: 39.84%\n",
            "Epoch [19/40], Loss: 0.0922, Training Accuracy: 37.24%\n",
            "Epoch [20/40], Loss: 0.0789, Training Accuracy: 38.02%\n",
            "Epoch [21/40], Loss: 0.0404, Training Accuracy: 39.84%\n",
            "Epoch [22/40], Loss: 0.0235, Training Accuracy: 39.58%\n",
            "Epoch [23/40], Loss: 0.0126, Training Accuracy: 41.67%\n",
            "Epoch [24/40], Loss: 0.0088, Training Accuracy: 40.36%\n",
            "Epoch [25/40], Loss: 0.0062, Training Accuracy: 40.36%\n",
            "Epoch [26/40], Loss: 0.0048, Training Accuracy: 41.67%\n",
            "Epoch [27/40], Loss: 0.0042, Training Accuracy: 40.89%\n",
            "Epoch [28/40], Loss: 0.0035, Training Accuracy: 41.41%\n",
            "Epoch [29/40], Loss: 0.0029, Training Accuracy: 39.84%\n",
            "Epoch [30/40], Loss: 0.0025, Training Accuracy: 40.10%\n",
            "Epoch [31/40], Loss: 0.0022, Training Accuracy: 40.10%\n",
            "Epoch [32/40], Loss: 0.0019, Training Accuracy: 39.58%\n",
            "Epoch [33/40], Loss: 0.0017, Training Accuracy: 39.58%\n",
            "Epoch [34/40], Loss: 0.0015, Training Accuracy: 39.06%\n",
            "Epoch [35/40], Loss: 0.0014, Training Accuracy: 38.80%\n",
            "Epoch [36/40], Loss: 0.0012, Training Accuracy: 38.28%\n",
            "Epoch [37/40], Loss: 0.0011, Training Accuracy: 38.54%\n",
            "Epoch [38/40], Loss: 0.0010, Training Accuracy: 38.54%\n",
            "Epoch [39/40], Loss: 0.0009, Training Accuracy: 37.50%\n",
            "Epoch [40/40], Loss: 0.0008, Training Accuracy: 37.50%\n"
          ]
        }
      ]
    },
    {
      "cell_type": "code",
      "source": [
        "def test():\n",
        "  model = HybridCNNFCModel(num_classes=8, metadata_dim=X_train.shape[1]).to(device)\n",
        "\n",
        "  criterion = nn.CrossEntropyLoss()\n",
        "  optimizer = optim.Adam(model.parameters(), lr=0.0001)\n",
        "\n",
        "  # 4. Training and testing loop\n",
        "\n",
        "  num_epochs = 40\n",
        "  trainingHolder = []\n",
        "  testingHolder = []\n",
        "\n",
        "  for epoch in range(num_epochs):\n",
        "      model.train()\n",
        "      running_loss = 0.0\n",
        "      correct_preds = 0\n",
        "      total_preds = 0\n",
        "\n",
        "      for images, metadata, labels in train_loader:\n",
        "          images, metadata, labels = images.to(device), metadata.to(device), labels.to(device)\n",
        "\n",
        "          # Forward pass\n",
        "          outputs = model(images, metadata)\n",
        "          loss = criterion(outputs, labels)\n",
        "\n",
        "          # Backward pass and optimization\n",
        "          optimizer.zero_grad()\n",
        "          loss.backward()\n",
        "          optimizer.step()\n",
        "\n",
        "          running_loss += loss.item()\n",
        "          _, predicted = torch.max(outputs, 1)\n",
        "          correct_preds += (predicted == labels).sum().item()\n",
        "          total_preds += labels.size(0)\n",
        "\n",
        "      avg_loss = running_loss / len(train_loader)\n",
        "      accuracy = (correct_preds / total_preds) * 100\n",
        "      trainingHolder.append(accuracy)\n",
        "\n",
        "      # Validation loop\n",
        "      model.eval()\n",
        "      correct_preds = 0\n",
        "      total_preds = 0\n",
        "      with torch.no_grad():\n",
        "          for images, metadata, labels in test_loader:\n",
        "              images, metadata, labels = images.to(device), metadata.to(device), labels.to(device)\n",
        "              outputs = model(images, metadata)\n",
        "              _, predicted = torch.max(outputs, 1)\n",
        "              correct_preds += (predicted == labels).sum().item()\n",
        "              total_preds += labels.size(0)\n",
        "\n",
        "      accuracy = (correct_preds / total_preds) * 100\n",
        "      testingHolder.append(accuracy)\n",
        "\n",
        "      # print(f\"Epoch [{epoch+1}/{num_epochs}], Loss: {avg_loss:.4f}, Training Accuracy: {accuracy:.2f}%\")\n",
        "\n",
        "  return max(testingHolder)"
      ],
      "metadata": {
        "id": "HGyLxIeVJCsT"
      },
      "execution_count": 10,
      "outputs": []
    },
    {
      "cell_type": "code",
      "source": [
        "from tqdm import tqdm\n",
        "\n",
        "acc = []\n",
        "for i in tqdm(range(10)):\n",
        "  acc.append(test())"
      ],
      "metadata": {
        "colab": {
          "base_uri": "https://localhost:8080/"
        },
        "id": "ILJXG0sfJbYC",
        "outputId": "8b4d5682-6a2d-439b-d824-d6ebe4f247fd"
      },
      "execution_count": 12,
      "outputs": [
        {
          "output_type": "stream",
          "name": "stderr",
          "text": [
            "100%|██████████| 10/10 [57:04<00:00, 342.48s/it]\n"
          ]
        }
      ]
    },
    {
      "cell_type": "code",
      "source": [
        "epochs = range(1, len(trainingHolder) + 1)\n",
        "\n",
        "# Create the plot\n",
        "plt.figure(figsize=(8, 6))\n",
        "plt.plot(epochs, trainingHolder, label='Training Accuracy', marker='o', color='blue')\n",
        "plt.plot(epochs, testingHolder, label='Testing Accuracy', marker='s', color='orange')\n",
        "\n",
        "# Add labels, title, and legend\n",
        "plt.xlabel('Epochs')\n",
        "plt.ylabel('Accuracy')\n",
        "plt.title('Training vs Testing Accuracy')\n",
        "plt.legend()\n",
        "plt.grid(True)\n",
        "\n",
        "# Show the plot\n",
        "plt.show()"
      ],
      "metadata": {
        "colab": {
          "base_uri": "https://localhost:8080/",
          "height": 564
        },
        "id": "7uyahExH7jXt",
        "outputId": "bd69dd96-c6dd-4716-ff77-c4766502fc02"
      },
      "execution_count": 8,
      "outputs": [
        {
          "output_type": "display_data",
          "data": {
            "text/plain": [
              "<Figure size 800x600 with 1 Axes>"
            ],
            "image/png": "[encoded data removed]"
          },
          "metadata": {}
        }
      ]
    },
    {
      "cell_type": "code",
      "source": [
        "max(testingHolder)"
      ],
      "metadata": {
        "id": "TDWQL5n17oj1",
        "colab": {
          "base_uri": "https://localhost:8080/"
        },
        "outputId": "29721135-5867-46c1-89a9-69f37d507c94"
      },
      "execution_count": 9,
      "outputs": [
        {
          "output_type": "execute_result",
          "data": {
            "text/plain": [
              "41.66666666666667"
            ]
          },
          "metadata": {},
          "execution_count": 9
        }
      ]
    },
    {
      "cell_type": "code",
      "source": [],
      "metadata": {
        "id": "CJN_LieoZXc8"
      },
      "execution_count": 9,
      "outputs": []
    }
  ]
}